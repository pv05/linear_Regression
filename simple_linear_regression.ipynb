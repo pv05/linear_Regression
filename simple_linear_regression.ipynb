{
 "cells": [
  {
   "cell_type": "code",
   "execution_count": 1,
   "id": "1aa369cc",
   "metadata": {},
   "outputs": [],
   "source": [
    "import numpy as np\n",
    "import pandas as pd  \n",
    "import matplotlib.pyplot as plt\n",
    "import seaborn as sns"
   ]
  },
  {
   "cell_type": "code",
   "execution_count": 2,
   "id": "1151bcfc",
   "metadata": {},
   "outputs": [],
   "source": [
    "dataset=pd.read_csv('Salary_Data.csv')"
   ]
  },
  {
   "cell_type": "code",
   "execution_count": 3,
   "id": "deb48a09",
   "metadata": {},
   "outputs": [
    {
     "data": {
      "text/html": [
       "<div>\n",
       "<style scoped>\n",
       "    .dataframe tbody tr th:only-of-type {\n",
       "        vertical-align: middle;\n",
       "    }\n",
       "\n",
       "    .dataframe tbody tr th {\n",
       "        vertical-align: top;\n",
       "    }\n",
       "\n",
       "    .dataframe thead th {\n",
       "        text-align: right;\n",
       "    }\n",
       "</style>\n",
       "<table border=\"1\" class=\"dataframe\">\n",
       "  <thead>\n",
       "    <tr style=\"text-align: right;\">\n",
       "      <th></th>\n",
       "      <th>YearsExperience</th>\n",
       "      <th>Salary</th>\n",
       "    </tr>\n",
       "  </thead>\n",
       "  <tbody>\n",
       "    <tr>\n",
       "      <th>0</th>\n",
       "      <td>1.1</td>\n",
       "      <td>39343</td>\n",
       "    </tr>\n",
       "    <tr>\n",
       "      <th>1</th>\n",
       "      <td>1.3</td>\n",
       "      <td>46205</td>\n",
       "    </tr>\n",
       "    <tr>\n",
       "      <th>2</th>\n",
       "      <td>1.5</td>\n",
       "      <td>37731</td>\n",
       "    </tr>\n",
       "    <tr>\n",
       "      <th>3</th>\n",
       "      <td>2.0</td>\n",
       "      <td>43525</td>\n",
       "    </tr>\n",
       "    <tr>\n",
       "      <th>4</th>\n",
       "      <td>2.2</td>\n",
       "      <td>39891</td>\n",
       "    </tr>\n",
       "    <tr>\n",
       "      <th>5</th>\n",
       "      <td>2.9</td>\n",
       "      <td>56642</td>\n",
       "    </tr>\n",
       "    <tr>\n",
       "      <th>6</th>\n",
       "      <td>3.0</td>\n",
       "      <td>60150</td>\n",
       "    </tr>\n",
       "    <tr>\n",
       "      <th>7</th>\n",
       "      <td>3.2</td>\n",
       "      <td>54445</td>\n",
       "    </tr>\n",
       "    <tr>\n",
       "      <th>8</th>\n",
       "      <td>3.2</td>\n",
       "      <td>64445</td>\n",
       "    </tr>\n",
       "    <tr>\n",
       "      <th>9</th>\n",
       "      <td>3.7</td>\n",
       "      <td>57189</td>\n",
       "    </tr>\n",
       "    <tr>\n",
       "      <th>10</th>\n",
       "      <td>3.9</td>\n",
       "      <td>63218</td>\n",
       "    </tr>\n",
       "    <tr>\n",
       "      <th>11</th>\n",
       "      <td>4.0</td>\n",
       "      <td>55794</td>\n",
       "    </tr>\n",
       "    <tr>\n",
       "      <th>12</th>\n",
       "      <td>4.0</td>\n",
       "      <td>56957</td>\n",
       "    </tr>\n",
       "    <tr>\n",
       "      <th>13</th>\n",
       "      <td>4.1</td>\n",
       "      <td>57081</td>\n",
       "    </tr>\n",
       "    <tr>\n",
       "      <th>14</th>\n",
       "      <td>4.5</td>\n",
       "      <td>61111</td>\n",
       "    </tr>\n",
       "    <tr>\n",
       "      <th>15</th>\n",
       "      <td>4.9</td>\n",
       "      <td>67938</td>\n",
       "    </tr>\n",
       "    <tr>\n",
       "      <th>16</th>\n",
       "      <td>5.1</td>\n",
       "      <td>66029</td>\n",
       "    </tr>\n",
       "    <tr>\n",
       "      <th>17</th>\n",
       "      <td>5.3</td>\n",
       "      <td>83088</td>\n",
       "    </tr>\n",
       "    <tr>\n",
       "      <th>18</th>\n",
       "      <td>5.9</td>\n",
       "      <td>81363</td>\n",
       "    </tr>\n",
       "    <tr>\n",
       "      <th>19</th>\n",
       "      <td>6.0</td>\n",
       "      <td>93940</td>\n",
       "    </tr>\n",
       "    <tr>\n",
       "      <th>20</th>\n",
       "      <td>6.8</td>\n",
       "      <td>91738</td>\n",
       "    </tr>\n",
       "    <tr>\n",
       "      <th>21</th>\n",
       "      <td>7.1</td>\n",
       "      <td>98273</td>\n",
       "    </tr>\n",
       "    <tr>\n",
       "      <th>22</th>\n",
       "      <td>7.9</td>\n",
       "      <td>101302</td>\n",
       "    </tr>\n",
       "    <tr>\n",
       "      <th>23</th>\n",
       "      <td>8.2</td>\n",
       "      <td>113812</td>\n",
       "    </tr>\n",
       "    <tr>\n",
       "      <th>24</th>\n",
       "      <td>8.7</td>\n",
       "      <td>109431</td>\n",
       "    </tr>\n",
       "    <tr>\n",
       "      <th>25</th>\n",
       "      <td>9.0</td>\n",
       "      <td>105582</td>\n",
       "    </tr>\n",
       "    <tr>\n",
       "      <th>26</th>\n",
       "      <td>9.5</td>\n",
       "      <td>116969</td>\n",
       "    </tr>\n",
       "    <tr>\n",
       "      <th>27</th>\n",
       "      <td>9.6</td>\n",
       "      <td>112635</td>\n",
       "    </tr>\n",
       "    <tr>\n",
       "      <th>28</th>\n",
       "      <td>10.3</td>\n",
       "      <td>122391</td>\n",
       "    </tr>\n",
       "    <tr>\n",
       "      <th>29</th>\n",
       "      <td>10.5</td>\n",
       "      <td>121872</td>\n",
       "    </tr>\n",
       "  </tbody>\n",
       "</table>\n",
       "</div>"
      ],
      "text/plain": [
       "    YearsExperience  Salary\n",
       "0               1.1   39343\n",
       "1               1.3   46205\n",
       "2               1.5   37731\n",
       "3               2.0   43525\n",
       "4               2.2   39891\n",
       "5               2.9   56642\n",
       "6               3.0   60150\n",
       "7               3.2   54445\n",
       "8               3.2   64445\n",
       "9               3.7   57189\n",
       "10              3.9   63218\n",
       "11              4.0   55794\n",
       "12              4.0   56957\n",
       "13              4.1   57081\n",
       "14              4.5   61111\n",
       "15              4.9   67938\n",
       "16              5.1   66029\n",
       "17              5.3   83088\n",
       "18              5.9   81363\n",
       "19              6.0   93940\n",
       "20              6.8   91738\n",
       "21              7.1   98273\n",
       "22              7.9  101302\n",
       "23              8.2  113812\n",
       "24              8.7  109431\n",
       "25              9.0  105582\n",
       "26              9.5  116969\n",
       "27              9.6  112635\n",
       "28             10.3  122391\n",
       "29             10.5  121872"
      ]
     },
     "execution_count": 3,
     "metadata": {},
     "output_type": "execute_result"
    }
   ],
   "source": [
    "dataset"
   ]
  },
  {
   "cell_type": "code",
   "execution_count": 4,
   "id": "a139ff57",
   "metadata": {},
   "outputs": [
    {
     "name": "stderr",
     "output_type": "stream",
     "text": [
      "C:\\ProgramData\\Anaconda3\\lib\\site-packages\\seaborn\\_decorators.py:36: FutureWarning: Pass the following variable as a keyword arg: x. From version 0.12, the only valid positional argument will be `data`, and passing other arguments without an explicit keyword will result in an error or misinterpretation.\n",
      "  warnings.warn(\n"
     ]
    },
    {
     "data": {
      "image/png": "[encoded data removed]",
      "text/plain": [
       "<Figure size 432x288 with 1 Axes>"
      ]
     },
     "metadata": {
      "needs_background": "light"
     },
     "output_type": "display_data"
    }
   ],
   "source": [
    "sns.boxplot(dataset['Salary'])\n",
    "plt.show()"
   ]
  },
  {
   "cell_type": "code",
   "execution_count": 5,
   "id": "25c68231",
   "metadata": {},
   "outputs": [
    {
     "data": {
      "image/png": "[encoded data removed]",
      "text/plain": [
       "<Figure size 432x288 with 1 Axes>"
      ]
     },
     "metadata": {
      "needs_background": "light"
     },
     "output_type": "display_data"
    }
   ],
   "source": [
    "sns.scatterplot(x=dataset['YearsExperience'],y=dataset['Salary'])\n",
    "plt.show()"
   ]
  },
  {
   "cell_type": "code",
   "execution_count": 6,
   "id": "2f5239cd",
   "metadata": {},
   "outputs": [
    {
     "data": {
      "text/plain": [
       "YearsExperience    0\n",
       "Salary             0\n",
       "dtype: int64"
      ]
     },
     "execution_count": 6,
     "metadata": {},
     "output_type": "execute_result"
    }
   ],
   "source": [
    "dataset.isnull().sum()"
   ]
  },
  {
   "cell_type": "code",
   "execution_count": 7,
   "id": "62224b2b",
   "metadata": {},
   "outputs": [
    {
     "data": {
      "text/html": [
       "<div>\n",
       "<style scoped>\n",
       "    .dataframe tbody tr th:only-of-type {\n",
       "        vertical-align: middle;\n",
       "    }\n",
       "\n",
       "    .dataframe tbody tr th {\n",
       "        vertical-align: top;\n",
       "    }\n",
       "\n",
       "    .dataframe thead th {\n",
       "        text-align: right;\n",
       "    }\n",
       "</style>\n",
       "<table border=\"1\" class=\"dataframe\">\n",
       "  <thead>\n",
       "    <tr style=\"text-align: right;\">\n",
       "      <th></th>\n",
       "      <th>YearsExperience</th>\n",
       "      <th>Salary</th>\n",
       "    </tr>\n",
       "  </thead>\n",
       "  <tbody>\n",
       "    <tr>\n",
       "      <th>YearsExperience</th>\n",
       "      <td>1.000000</td>\n",
       "      <td>0.978242</td>\n",
       "    </tr>\n",
       "    <tr>\n",
       "      <th>Salary</th>\n",
       "      <td>0.978242</td>\n",
       "      <td>1.000000</td>\n",
       "    </tr>\n",
       "  </tbody>\n",
       "</table>\n",
       "</div>"
      ],
      "text/plain": [
       "                 YearsExperience    Salary\n",
       "YearsExperience         1.000000  0.978242\n",
       "Salary                  0.978242  1.000000"
      ]
     },
     "execution_count": 7,
     "metadata": {},
     "output_type": "execute_result"
    }
   ],
   "source": [
    "dataset.corr()"
   ]
  },
  {
   "cell_type": "code",
   "execution_count": 8,
   "id": "d960f75e",
   "metadata": {},
   "outputs": [
    {
     "data": {
      "text/plain": [
       "(30, 2)"
      ]
     },
     "execution_count": 8,
     "metadata": {},
     "output_type": "execute_result"
    }
   ],
   "source": [
    "dataset.shape"
   ]
  },
  {
   "cell_type": "code",
   "execution_count": 9,
   "id": "177f6702",
   "metadata": {},
   "outputs": [
    {
     "data": {
      "text/html": [
       "<div>\n",
       "<style scoped>\n",
       "    .dataframe tbody tr th:only-of-type {\n",
       "        vertical-align: middle;\n",
       "    }\n",
       "\n",
       "    .dataframe tbody tr th {\n",
       "        vertical-align: top;\n",
       "    }\n",
       "\n",
       "    .dataframe thead th {\n",
       "        text-align: right;\n",
       "    }\n",
       "</style>\n",
       "<table border=\"1\" class=\"dataframe\">\n",
       "  <thead>\n",
       "    <tr style=\"text-align: right;\">\n",
       "      <th></th>\n",
       "      <th>count</th>\n",
       "      <th>mean</th>\n",
       "      <th>std</th>\n",
       "      <th>min</th>\n",
       "      <th>25%</th>\n",
       "      <th>50%</th>\n",
       "      <th>75%</th>\n",
       "      <th>max</th>\n",
       "    </tr>\n",
       "  </thead>\n",
       "  <tbody>\n",
       "    <tr>\n",
       "      <th>YearsExperience</th>\n",
       "      <td>30.0</td>\n",
       "      <td>5.313333</td>\n",
       "      <td>2.837888</td>\n",
       "      <td>1.1</td>\n",
       "      <td>3.20</td>\n",
       "      <td>4.7</td>\n",
       "      <td>7.70</td>\n",
       "      <td>10.5</td>\n",
       "    </tr>\n",
       "    <tr>\n",
       "      <th>Salary</th>\n",
       "      <td>30.0</td>\n",
       "      <td>76003.000000</td>\n",
       "      <td>27414.429785</td>\n",
       "      <td>37731.0</td>\n",
       "      <td>56720.75</td>\n",
       "      <td>65237.0</td>\n",
       "      <td>100544.75</td>\n",
       "      <td>122391.0</td>\n",
       "    </tr>\n",
       "  </tbody>\n",
       "</table>\n",
       "</div>"
      ],
      "text/plain": [
       "                 count          mean           std      min       25%  \\\n",
       "YearsExperience   30.0      5.313333      2.837888      1.1      3.20   \n",
       "Salary            30.0  76003.000000  27414.429785  37731.0  56720.75   \n",
       "\n",
       "                     50%        75%       max  \n",
       "YearsExperience      4.7       7.70      10.5  \n",
       "Salary           65237.0  100544.75  122391.0  "
      ]
     },
     "execution_count": 9,
     "metadata": {},
     "output_type": "execute_result"
    }
   ],
   "source": [
    "dataset.describe().transpose()"
   ]
  },
  {
   "cell_type": "code",
   "execution_count": 10,
   "id": "f7db0adb",
   "metadata": {},
   "outputs": [
    {
     "data": {
      "text/plain": [
       "0.35411967922959153"
      ]
     },
     "execution_count": 10,
     "metadata": {},
     "output_type": "execute_result"
    }
   ],
   "source": [
    "dataset['Salary'].skew()"
   ]
  },
  {
   "cell_type": "markdown",
   "id": "70e0ae5d",
   "metadata": {},
   "source": [
    "# Regression Plot"
   ]
  },
  {
   "cell_type": "code",
   "execution_count": 11,
   "id": "77433fc0",
   "metadata": {},
   "outputs": [
    {
     "data": {
      "image/png": "[encoded data removed]",
      "text/plain": [
       "<Figure size 432x288 with 1 Axes>"
      ]
     },
     "metadata": {
      "needs_background": "light"
     },
     "output_type": "display_data"
    }
   ],
   "source": [
    "sns.regplot(x=dataset['YearsExperience'],y=dataset['Salary']) #the line come from OLS method\n",
    "# Best Fit Line (BFT) show in below there\n",
    "plt.show()"
   ]
  },
  {
   "cell_type": "code",
   "execution_count": 12,
   "id": "973a3430",
   "metadata": {},
   "outputs": [
    {
     "data": {
      "image/png": "[encoded data removed]",
      "text/plain": [
       "<Figure size 432x288 with 1 Axes>"
      ]
     },
     "metadata": {
      "needs_background": "light"
     },
     "output_type": "display_data"
    }
   ],
   "source": [
    "sns.residplot(x=dataset['YearsExperience'],y=dataset['Salary'])\n",
    "plt.show()\n",
    "# this is show e=(yi-y^) on salary side"
   ]
  },
  {
   "cell_type": "markdown",
   "id": "b502d0d1",
   "metadata": {},
   "source": [
    "# Train Test Split"
   ]
  },
  {
   "cell_type": "code",
   "execution_count": 13,
   "id": "9657b334",
   "metadata": {},
   "outputs": [],
   "source": [
    "x=dataset['YearsExperience']\n",
    "y=dataset['Salary']\n"
   ]
  },
  {
   "cell_type": "code",
   "execution_count": 14,
   "id": "cc0c4480",
   "metadata": {},
   "outputs": [],
   "source": [
    "from sklearn.model_selection import train_test_split"
   ]
  },
  {
   "cell_type": "code",
   "execution_count": 15,
   "id": "d9aa329e",
   "metadata": {},
   "outputs": [],
   "source": [
    "#it retrun in this order below\n",
    "# x_train , x_test , y_train , y_test\n",
    "x_train, x_test, y_train, y_test =train_test_split(x,y,train_size=0.7,random_state=1) # 0.7 means 70% data in train and rest 30% in test\n"
   ]
  },
  {
   "cell_type": "code",
   "execution_count": 16,
   "id": "ce61207e",
   "metadata": {},
   "outputs": [
    {
     "name": "stdout",
     "output_type": "stream",
     "text": [
      "(21,)\n",
      "(21,)\n",
      "(9,)\n",
      "(9,)\n"
     ]
    }
   ],
   "source": [
    "print(x_train.shape)\n",
    "print(y_train.shape)\n",
    "print(x_test.shape)\n",
    "print(y_test.shape)\n",
    "# all data is 70% of splited data and 30 % testing data"
   ]
  },
  {
   "cell_type": "markdown",
   "id": "c9395734",
   "metadata": {},
   "source": [
    "# Linear Regression Model"
   ]
  },
  {
   "cell_type": "code",
   "execution_count": 17,
   "id": "3cba56ba",
   "metadata": {},
   "outputs": [],
   "source": [
    "from sklearn.linear_model import LinearRegression"
   ]
  },
  {
   "cell_type": "code",
   "execution_count": 18,
   "id": "66d5f18e",
   "metadata": {},
   "outputs": [],
   "source": [
    "model = LinearRegression()"
   ]
  },
  {
   "cell_type": "code",
   "execution_count": 19,
   "id": "e548288a",
   "metadata": {},
   "outputs": [],
   "source": [
    "#train the model means fit the model"
   ]
  },
  {
   "cell_type": "code",
   "execution_count": 20,
   "id": "34a9b6b8",
   "metadata": {},
   "outputs": [],
   "source": [
    "x_test = np.array(x_test)\n",
    "x_test = x_test.reshape((-1,1))"
   ]
  },
  {
   "cell_type": "code",
   "execution_count": 21,
   "id": "a9a1de8a",
   "metadata": {},
   "outputs": [],
   "source": [
    "x_train = np.array(x_train)\n",
    "x_train = x_train.reshape((-1,1))"
   ]
  },
  {
   "cell_type": "code",
   "execution_count": 22,
   "id": "85e0d8e6",
   "metadata": {},
   "outputs": [
    {
     "data": {
      "text/plain": [
       "LinearRegression()"
      ]
     },
     "execution_count": 22,
     "metadata": {},
     "output_type": "execute_result"
    }
   ],
   "source": [
    "#train the model means fit the model\n",
    "model.fit(x_train,y_train)"
   ]
  },
  {
   "cell_type": "code",
   "execution_count": 23,
   "id": "1a2a9957",
   "metadata": {},
   "outputs": [],
   "source": [
    "# y= a + bx"
   ]
  },
  {
   "cell_type": "code",
   "execution_count": 24,
   "id": "a8be2d8d",
   "metadata": {},
   "outputs": [
    {
     "data": {
      "text/plain": [
       "26049.577715443353"
      ]
     },
     "execution_count": 24,
     "metadata": {},
     "output_type": "execute_result"
    }
   ],
   "source": [
    "model.intercept_"
   ]
  },
  {
   "cell_type": "code",
   "execution_count": 25,
   "id": "52f92a8f",
   "metadata": {},
   "outputs": [
    {
     "data": {
      "text/plain": [
       "array([9202.23359825])"
      ]
     },
     "execution_count": 25,
     "metadata": {},
     "output_type": "execute_result"
    }
   ],
   "source": [
    "model.coef_"
   ]
  },
  {
   "cell_type": "code",
   "execution_count": 26,
   "id": "b34b24d8",
   "metadata": {},
   "outputs": [],
   "source": [
    "# y = 26049.57777 + (9202.2336 * x)\n",
    "# x multply every time"
   ]
  },
  {
   "cell_type": "code",
   "execution_count": 27,
   "id": "79390a96",
   "metadata": {},
   "outputs": [
    {
     "data": {
      "text/plain": [
       "array([ 74821.41578619,  91385.43626305,  61938.28874864,  81262.97930497,\n",
       "        67459.62890759,  88624.76618357, 113470.79689886,  44454.04491195,\n",
       "       106109.01002026])"
      ]
     },
     "execution_count": 27,
     "metadata": {},
     "output_type": "execute_result"
    }
   ],
   "source": [
    "y_predict=model.predict(x_test) # we give them x_test's all values to predict the our y values \n",
    "y_predict"
   ]
  },
  {
   "cell_type": "code",
   "execution_count": 28,
   "id": "e7483c87",
   "metadata": {},
   "outputs": [],
   "source": [
    "from sklearn.metrics import r2_score,mean_squared_error,mean_absolute_percentage_error"
   ]
  },
  {
   "cell_type": "code",
   "execution_count": 29,
   "id": "ec5d0a68",
   "metadata": {},
   "outputs": [
    {
     "name": "stdout",
     "output_type": "stream",
     "text": [
      "R Square value :  0.9248580247217075\n",
      "Mean Square Error :  39139215.99958858\n",
      "Mean Absolute Percentage Error :  0.06046677038121748\n"
     ]
    }
   ],
   "source": [
    "r2=r2_score(y_test,y_predict)\n",
    "MSE=mean_squared_error(y_test,y_predict)\n",
    "MAPE=mean_absolute_percentage_error(y_test,y_predict)\n",
    "print('R Square value : ',r2)\n",
    "print('Mean Square Error : ',MSE) \n",
    "print('Mean Absolute Percentage Error : ',MAPE) "
   ]
  },
  {
   "cell_type": "code",
   "execution_count": 30,
   "id": "791fe628",
   "metadata": {},
   "outputs": [
    {
     "name": "stdout",
     "output_type": "stream",
     "text": [
      "[ 74821.41578619  91385.43626305  61938.28874864  81262.97930497\n",
      "  67459.62890759  88624.76618357 113470.79689886  44454.04491195\n",
      " 106109.01002026]\n"
     ]
    },
    {
     "data": {
      "text/plain": [
       "17     83088\n",
       "21     98273\n",
       "10     63218\n",
       "19     93940\n",
       "14     61111\n",
       "20     91738\n",
       "26    116969\n",
       "3      43525\n",
       "24    109431\n",
       "Name: Salary, dtype: int64"
      ]
     },
     "execution_count": 30,
     "metadata": {},
     "output_type": "execute_result"
    }
   ],
   "source": [
    "# print('Actuall data   : ',y_test[-1])\n",
    "# print('Predicted data : ',y_predict[-1])\n",
    "print(y_predict)\n",
    "y_test\n",
    "# # y_test=np.array(y_test)\n",
    "# print('actual  : ',y_test[2] ,'\\npredict : ',y_predict[2])"
   ]
  },
  {
   "cell_type": "code",
   "execution_count": 31,
   "id": "43e0d32f",
   "metadata": {},
   "outputs": [
    {
     "data": {
      "image/png": "[encoded data removed]",
      "text/plain": [
       "<Figure size 432x288 with 1 Axes>"
      ]
     },
     "metadata": {
      "needs_background": "light"
     },
     "output_type": "display_data"
    }
   ],
   "source": [
    "# ei = y-y^  graph plot\n",
    "# 30% of  y  data\n",
    "# 30% of  y^ data\n",
    "\n",
    "ei = y_test-y_predict # it ei = y-y^\n",
    "x_test=x_test.reshape((-1))\n",
    "plt.bar(x_test,ei,color='b',edgecolor='k',width=0.4,align='edge')\n",
    "plt.grid(True)"
   ]
  },
  {
   "cell_type": "code",
   "execution_count": 32,
   "id": "c9ec5ec4",
   "metadata": {},
   "outputs": [
    {
     "name": "stdout",
     "output_type": "stream",
     "text": [
      "Actuall data   :  61111\n",
      "Predicted data :  67459.62890758921\n",
      "UP graph Accurecy : 89.61 %\n"
     ]
    }
   ],
   "source": [
    "y_test=np.array(y_test)\n",
    "actucal_data=y_test[4]\n",
    "predicted_data=y_predict[4]\n",
    "print('Actuall data   : ',actucal_data)\n",
    "print('Predicted data : ',predicted_data)\n",
    "accuracy_percetange=round((predicted_data-actucal_data)/actucal_data,4)*100\n",
    "if accuracy_percetange<0:\n",
    "    print(f'Down graph Accurecy : {100+accuracy_percetange} %')\n",
    "else:\n",
    "    print(f'UP graph Accurecy : {100-accuracy_percetange} %')"
   ]
  },
  {
   "cell_type": "code",
   "execution_count": 33,
   "id": "5a97df9b",
   "metadata": {},
   "outputs": [
    {
     "name": "stdout",
     "output_type": "stream",
     "text": [
      "Data                : 1\n",
      "Actuall data        : 83088\n",
      "Predicted data      : 74821.416\n",
      "Error of data       : 8266.584\n",
      "Down graph Accurecy : 90.05 %\n",
      "\n",
      "\n",
      "**************************************\n",
      "\n",
      "Data                : 2\n",
      "Actuall data        : 98273\n",
      "Predicted data      : 91385.436\n",
      "Error of data       : 6887.564\n",
      "Down graph Accurecy : 92.99 %\n",
      "\n",
      "\n",
      "**************************************\n",
      "\n",
      "Data                : 3\n",
      "Actuall data        : 63218\n",
      "Predicted data      : 61938.289\n",
      "Error of data       : 1279.711\n",
      "Down graph Accurecy : 97.98 %\n",
      "\n",
      "\n",
      "**************************************\n",
      "\n",
      "Data                : 4\n",
      "Actuall data        : 93940\n",
      "Predicted data      : 81262.979\n",
      "Error of data       : 12677.021\n",
      "Down graph Accurecy : 86.51 %\n",
      "\n",
      "\n",
      "**************************************\n",
      "\n",
      "Data                : 5\n",
      "Actuall data        : 61111\n",
      "Predicted data      : 67459.629\n",
      "Error of data       : -6348.629\n",
      "UP graph Accurecy : 89.61 %\n",
      "\n",
      "\n",
      "**************************************\n",
      "\n",
      "Data                : 6\n",
      "Actuall data        : 91738\n",
      "Predicted data      : 88624.766\n",
      "Error of data       : 3113.234\n",
      "Down graph Accurecy : 96.61 %\n",
      "\n",
      "\n",
      "**************************************\n",
      "\n",
      "Data                : 7\n",
      "Actuall data        : 116969\n",
      "Predicted data      : 113470.797\n",
      "Error of data       : 3498.203\n",
      "Down graph Accurecy : 97.01 %\n",
      "\n",
      "\n",
      "**************************************\n",
      "\n",
      "Data                : 8\n",
      "Actuall data        : 43525\n",
      "Predicted data      : 44454.045\n",
      "Error of data       : -929.045\n",
      "UP graph Accurecy : 97.87 %\n",
      "\n",
      "\n",
      "**************************************\n",
      "\n",
      "Data                : 9\n",
      "Actuall data        : 109431\n",
      "Predicted data      : 106109.01\n",
      "Error of data       : 3321.99\n",
      "Down graph Accurecy : 96.96 %\n",
      "\n",
      "\n",
      "**************************************\n",
      "\n"
     ]
    }
   ],
   "source": [
    "for i in range(0,9):\n",
    "    print(f'Data                : {i+1}')\n",
    "    actucal_data=y_test[i]\n",
    "    predicted_data=y_predict[i]\n",
    "    print('Actuall data        :',actucal_data)\n",
    "    print('Predicted data      :',round(predicted_data,3))\n",
    "    print('Error of data       :',round((actucal_data-predicted_data),3))\n",
    "    accuracy_percetange=round((predicted_data-actucal_data)/actucal_data,4)*100\n",
    "    if accuracy_percetange<0:\n",
    "        print(f'Down graph Accurecy : {100+accuracy_percetange} %')\n",
    "    else:\n",
    "        print(f'UP graph Accurecy : {100-accuracy_percetange} %')\n",
    "    print('\\n\\n**************************************\\n')\n",
    "    "
   ]
  },
  {
   "cell_type": "code",
   "execution_count": 34,
   "id": "510772dc",
   "metadata": {},
   "outputs": [
    {
     "data": {
      "text/html": [
       "<div>\n",
       "<style scoped>\n",
       "    .dataframe tbody tr th:only-of-type {\n",
       "        vertical-align: middle;\n",
       "    }\n",
       "\n",
       "    .dataframe tbody tr th {\n",
       "        vertical-align: top;\n",
       "    }\n",
       "\n",
       "    .dataframe thead th {\n",
       "        text-align: right;\n",
       "    }\n",
       "</style>\n",
       "<table border=\"1\" class=\"dataframe\">\n",
       "  <thead>\n",
       "    <tr style=\"text-align: right;\">\n",
       "      <th></th>\n",
       "      <th>Actual</th>\n",
       "      <th>Predicted</th>\n",
       "      <th>Error</th>\n",
       "    </tr>\n",
       "  </thead>\n",
       "  <tbody>\n",
       "    <tr>\n",
       "      <th>0</th>\n",
       "      <td>83088.0</td>\n",
       "      <td>74821.415786</td>\n",
       "      <td>8266.584214</td>\n",
       "    </tr>\n",
       "    <tr>\n",
       "      <th>1</th>\n",
       "      <td>98273.0</td>\n",
       "      <td>91385.436263</td>\n",
       "      <td>6887.563737</td>\n",
       "    </tr>\n",
       "    <tr>\n",
       "      <th>2</th>\n",
       "      <td>63218.0</td>\n",
       "      <td>61938.288749</td>\n",
       "      <td>1279.711251</td>\n",
       "    </tr>\n",
       "    <tr>\n",
       "      <th>3</th>\n",
       "      <td>93940.0</td>\n",
       "      <td>81262.979305</td>\n",
       "      <td>12677.020695</td>\n",
       "    </tr>\n",
       "    <tr>\n",
       "      <th>4</th>\n",
       "      <td>61111.0</td>\n",
       "      <td>67459.628908</td>\n",
       "      <td>-6348.628908</td>\n",
       "    </tr>\n",
       "    <tr>\n",
       "      <th>5</th>\n",
       "      <td>91738.0</td>\n",
       "      <td>88624.766184</td>\n",
       "      <td>3113.233816</td>\n",
       "    </tr>\n",
       "    <tr>\n",
       "      <th>6</th>\n",
       "      <td>116969.0</td>\n",
       "      <td>113470.796899</td>\n",
       "      <td>3498.203101</td>\n",
       "    </tr>\n",
       "    <tr>\n",
       "      <th>7</th>\n",
       "      <td>43525.0</td>\n",
       "      <td>44454.044912</td>\n",
       "      <td>-929.044912</td>\n",
       "    </tr>\n",
       "    <tr>\n",
       "      <th>8</th>\n",
       "      <td>109431.0</td>\n",
       "      <td>106109.010020</td>\n",
       "      <td>3321.989980</td>\n",
       "    </tr>\n",
       "  </tbody>\n",
       "</table>\n",
       "</div>"
      ],
      "text/plain": [
       "     Actual      Predicted         Error\n",
       "0   83088.0   74821.415786   8266.584214\n",
       "1   98273.0   91385.436263   6887.563737\n",
       "2   63218.0   61938.288749   1279.711251\n",
       "3   93940.0   81262.979305  12677.020695\n",
       "4   61111.0   67459.628908  -6348.628908\n",
       "5   91738.0   88624.766184   3113.233816\n",
       "6  116969.0  113470.796899   3498.203101\n",
       "7   43525.0   44454.044912   -929.044912\n",
       "8  109431.0  106109.010020   3321.989980"
      ]
     },
     "execution_count": 34,
     "metadata": {},
     "output_type": "execute_result"
    }
   ],
   "source": [
    "y_error=y_test-y_predict\n",
    "error_data=pd.DataFrame(np.array([y_test,y_predict,y_error])).T\n",
    "error_data=error_data.rename(columns={0:'Actual',1:'Predicted',2:'Error'})\n",
    "error_data"
   ]
  },
  {
   "cell_type": "code",
   "execution_count": 35,
   "id": "2a3d8f30",
   "metadata": {},
   "outputs": [],
   "source": [
    "# For Show statistics\n",
    "import statsmodels.api as si\n",
    "mod=si.OLS(y_train,x_train)\n",
    "result=mod.fit()"
   ]
  },
  {
   "cell_type": "code",
   "execution_count": 36,
   "id": "36720c54",
   "metadata": {},
   "outputs": [
    {
     "name": "stdout",
     "output_type": "stream",
     "text": [
      "                                 OLS Regression Results                                \n",
      "=======================================================================================\n",
      "Dep. Variable:                 Salary   R-squared (uncentered):                   0.966\n",
      "Model:                            OLS   Adj. R-squared (uncentered):              0.964\n",
      "Method:                 Least Squares   F-statistic:                              567.3\n",
      "Date:                Mon, 01 Nov 2021   Prob (F-statistic):                    3.76e-16\n",
      "Time:                        22:42:23   Log-Likelihood:                         -230.72\n",
      "No. Observations:                  21   AIC:                                      463.4\n",
      "Df Residuals:                      20   BIC:                                      464.5\n",
      "Df Model:                           1                                                  \n",
      "Covariance Type:            nonrobust                                                  \n",
      "==============================================================================\n",
      "                 coef    std err          t      P>|t|      [0.025      0.975]\n",
      "------------------------------------------------------------------------------\n",
      "x1          1.305e+04    548.045     23.817      0.000    1.19e+04    1.42e+04\n",
      "==============================================================================\n",
      "Omnibus:                        0.771   Durbin-Watson:                   1.963\n",
      "Prob(Omnibus):                  0.680   Jarque-Bera (JB):                0.692\n",
      "Skew:                          -0.085   Prob(JB):                        0.708\n",
      "Kurtosis:                       2.127   Cond. No.                         1.00\n",
      "==============================================================================\n",
      "\n",
      "Notes:\n",
      "[1] R² is computed without centering (uncentered) since the model does not contain a constant.\n",
      "[2] Standard Errors assume that the covariance matrix of the errors is correctly specified.\n"
     ]
    }
   ],
   "source": [
    "print(result.summary())"
   ]
  },
  {
   "cell_type": "code",
   "execution_count": 37,
   "id": "ce915acf",
   "metadata": {},
   "outputs": [],
   "source": [
    "# plt.figure(figsize=(20, 6))\n",
    "# ax=sns.barplot(x=\"Predicted\", y=[1,2,3,4,5,6,7,8,9], data=error_data)\n",
    "# ax=sns.barplot(x=\"Actual\", y=[1,2,3,4,5,6,7,8,9], data=error_data)\n",
    "\n",
    "# ax.set()\n",
    "# plt.show()\n"
   ]
  },
  {
   "cell_type": "code",
   "execution_count": 38,
   "id": "60298838",
   "metadata": {},
   "outputs": [
    {
     "data": {
      "image/png": "[encoded data removed]",
      "text/plain": [
       "<Figure size 1224x360 with 1 Axes>"
      ]
     },
     "metadata": {
      "needs_background": "light"
     },
     "output_type": "display_data"
    }
   ],
   "source": [
    "plt.figure(figsize=(17,5))\n",
    "predicted = list(error_data['Predicted'])\n",
    "actual = list(error_data['Actual'])\n",
    "\n",
    "n=9\n",
    "r = np.arange(n)\n",
    "width = 0.25\n",
    "\n",
    "  \n",
    "plt.bar(r, predicted, color = 'b',width = width, edgecolor = 'black',label='Predicted')\n",
    "plt.bar(r + width, actual, color = 'g',width = width, edgecolor = 'black',label='Actual')\n",
    "  \n",
    "plt.xlabel(\"No of Datas\",fontsize=12,weight=\"bold\")\n",
    "plt.ylabel(\"Data Range\",fontsize=12,weight=\"bold\")\n",
    "plt.title(\"Data Accuracy\\n\",fontsize=20,weight=\"bold\")\n",
    "plt.legend(fontsize=15)\n",
    "plt.grid(color='r', linestyle='-', linewidth=0.5)\n",
    "\n",
    "# plt.xticks(np.arange(0, 9,step=1))\n",
    "plt.xticks(np.arange(0, 9, step=1),['Data_0','Data_1','Data_2','Data_3','Data_4','Data_5','Data_6','Data_7','Data_8'])\n",
    "\n",
    "plt.show()"
   ]
  },
  {
   "cell_type": "code",
   "execution_count": 43,
   "id": "b39bffaa",
   "metadata": {},
   "outputs": [
    {
     "data": {
      "image/png": "[encoded data removed]",
      "text/plain": [
       "<Figure size 1080x360 with 1 Axes>"
      ]
     },
     "metadata": {
      "needs_background": "light"
     },
     "output_type": "display_data"
    }
   ],
   "source": [
    "error_data.plot(x='Error',kind='bar',stacked=False,figsize=(15, 5))\n",
    "plt.rcParams.update({'font.size': 15})"
   ]
  },
  {
   "cell_type": "code",
   "execution_count": null,
   "id": "e645307a",
   "metadata": {},
   "outputs": [],
   "source": []
  },
  {
   "cell_type": "code",
   "execution_count": null,
   "id": "059fb7fa",
   "metadata": {},
   "outputs": [],
   "source": []
  }
 ],
 "metadata": {
  "kernelspec": {
   "display_name": "Python 3",
   "language": "python",
   "name": "python3"
  },
  "language_info": {
   "codemirror_mode": {
    "name": "ipython",
    "version": 3
   },
   "file_extension": ".py",
   "mimetype": "text/x-python",
   "name": "python",
   "nbconvert_exporter": "python",
   "pygments_lexer": "ipython3",
   "version": "3.8.8"
  },
  "toc": {
   "base_numbering": 1,
   "nav_menu": {},
   "number_sections": false,
   "sideBar": true,
   "skip_h1_title": false,
   "title_cell": "Table of Contents",
   "title_sidebar": "Contents",
   "toc_cell": false,
   "toc_position": {},
   "toc_section_display": true,
   "toc_window_display": false
  }
 },
 "nbformat": 4,
 "nbformat_minor": 5
}
