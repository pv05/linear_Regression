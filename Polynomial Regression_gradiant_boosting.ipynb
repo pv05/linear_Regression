{
 "cells": [
  {
   "cell_type": "markdown",
   "metadata": {},
   "source": [
    "## Elantra Sales Linear vs Polynomial Regression\n"
   ]
  },
  {
   "cell_type": "code",
   "execution_count": 1,
   "metadata": {
    "scrolled": true
   },
   "outputs": [
    {
     "data": {
      "text/html": [
       "<div>\n",
       "<style scoped>\n",
       "    .dataframe tbody tr th:only-of-type {\n",
       "        vertical-align: middle;\n",
       "    }\n",
       "\n",
       "    .dataframe tbody tr th {\n",
       "        vertical-align: top;\n",
       "    }\n",
       "\n",
       "    .dataframe thead th {\n",
       "        text-align: right;\n",
       "    }\n",
       "</style>\n",
       "<table border=\"1\" class=\"dataframe\">\n",
       "  <thead>\n",
       "    <tr style=\"text-align: right;\">\n",
       "      <th></th>\n",
       "      <th>Month</th>\n",
       "      <th>Year</th>\n",
       "      <th>ElantraSales</th>\n",
       "      <th>Unemployment</th>\n",
       "      <th>Queries</th>\n",
       "      <th>CPI_energy</th>\n",
       "      <th>CPI_all</th>\n",
       "    </tr>\n",
       "  </thead>\n",
       "  <tbody>\n",
       "    <tr>\n",
       "      <th>0</th>\n",
       "      <td>1</td>\n",
       "      <td>2010</td>\n",
       "      <td>7690</td>\n",
       "      <td>9.7</td>\n",
       "      <td>153</td>\n",
       "      <td>213.377</td>\n",
       "      <td>217.466</td>\n",
       "    </tr>\n",
       "    <tr>\n",
       "      <th>1</th>\n",
       "      <td>1</td>\n",
       "      <td>2011</td>\n",
       "      <td>9659</td>\n",
       "      <td>9.1</td>\n",
       "      <td>259</td>\n",
       "      <td>229.353</td>\n",
       "      <td>221.082</td>\n",
       "    </tr>\n",
       "    <tr>\n",
       "      <th>2</th>\n",
       "      <td>1</td>\n",
       "      <td>2012</td>\n",
       "      <td>10900</td>\n",
       "      <td>8.2</td>\n",
       "      <td>354</td>\n",
       "      <td>244.178</td>\n",
       "      <td>227.666</td>\n",
       "    </tr>\n",
       "    <tr>\n",
       "      <th>3</th>\n",
       "      <td>1</td>\n",
       "      <td>2013</td>\n",
       "      <td>12174</td>\n",
       "      <td>7.9</td>\n",
       "      <td>230</td>\n",
       "      <td>242.560</td>\n",
       "      <td>231.321</td>\n",
       "    </tr>\n",
       "    <tr>\n",
       "      <th>4</th>\n",
       "      <td>1</td>\n",
       "      <td>2014</td>\n",
       "      <td>15326</td>\n",
       "      <td>6.6</td>\n",
       "      <td>232</td>\n",
       "      <td>247.575</td>\n",
       "      <td>234.933</td>\n",
       "    </tr>\n",
       "    <tr>\n",
       "      <th>5</th>\n",
       "      <td>2</td>\n",
       "      <td>2010</td>\n",
       "      <td>7966</td>\n",
       "      <td>9.8</td>\n",
       "      <td>130</td>\n",
       "      <td>209.924</td>\n",
       "      <td>217.251</td>\n",
       "    </tr>\n",
       "    <tr>\n",
       "      <th>6</th>\n",
       "      <td>2</td>\n",
       "      <td>2011</td>\n",
       "      <td>12289</td>\n",
       "      <td>9.0</td>\n",
       "      <td>266</td>\n",
       "      <td>232.188</td>\n",
       "      <td>221.816</td>\n",
       "    </tr>\n",
       "    <tr>\n",
       "      <th>7</th>\n",
       "      <td>2</td>\n",
       "      <td>2012</td>\n",
       "      <td>13820</td>\n",
       "      <td>8.3</td>\n",
       "      <td>296</td>\n",
       "      <td>247.615</td>\n",
       "      <td>228.138</td>\n",
       "    </tr>\n",
       "    <tr>\n",
       "      <th>8</th>\n",
       "      <td>2</td>\n",
       "      <td>2013</td>\n",
       "      <td>16219</td>\n",
       "      <td>7.7</td>\n",
       "      <td>239</td>\n",
       "      <td>252.639</td>\n",
       "      <td>232.599</td>\n",
       "    </tr>\n",
       "    <tr>\n",
       "      <th>9</th>\n",
       "      <td>2</td>\n",
       "      <td>2014</td>\n",
       "      <td>16393</td>\n",
       "      <td>6.7</td>\n",
       "      <td>240</td>\n",
       "      <td>246.389</td>\n",
       "      <td>235.169</td>\n",
       "    </tr>\n",
       "    <tr>\n",
       "      <th>10</th>\n",
       "      <td>3</td>\n",
       "      <td>2010</td>\n",
       "      <td>8225</td>\n",
       "      <td>9.9</td>\n",
       "      <td>138</td>\n",
       "      <td>209.163</td>\n",
       "      <td>217.305</td>\n",
       "    </tr>\n",
       "    <tr>\n",
       "      <th>11</th>\n",
       "      <td>3</td>\n",
       "      <td>2011</td>\n",
       "      <td>19255</td>\n",
       "      <td>9.0</td>\n",
       "      <td>281</td>\n",
       "      <td>239.454</td>\n",
       "      <td>222.955</td>\n",
       "    </tr>\n",
       "    <tr>\n",
       "      <th>12</th>\n",
       "      <td>3</td>\n",
       "      <td>2012</td>\n",
       "      <td>19681</td>\n",
       "      <td>8.2</td>\n",
       "      <td>303</td>\n",
       "      <td>249.095</td>\n",
       "      <td>228.732</td>\n",
       "    </tr>\n",
       "    <tr>\n",
       "      <th>13</th>\n",
       "      <td>3</td>\n",
       "      <td>2013</td>\n",
       "      <td>26153</td>\n",
       "      <td>7.5</td>\n",
       "      <td>313</td>\n",
       "      <td>244.598</td>\n",
       "      <td>232.075</td>\n",
       "    </tr>\n",
       "    <tr>\n",
       "      <th>14</th>\n",
       "      <td>4</td>\n",
       "      <td>2010</td>\n",
       "      <td>9657</td>\n",
       "      <td>9.9</td>\n",
       "      <td>132</td>\n",
       "      <td>209.024</td>\n",
       "      <td>217.376</td>\n",
       "    </tr>\n",
       "    <tr>\n",
       "      <th>15</th>\n",
       "      <td>4</td>\n",
       "      <td>2011</td>\n",
       "      <td>22100</td>\n",
       "      <td>9.1</td>\n",
       "      <td>305</td>\n",
       "      <td>247.129</td>\n",
       "      <td>224.056</td>\n",
       "    </tr>\n",
       "    <tr>\n",
       "      <th>16</th>\n",
       "      <td>4</td>\n",
       "      <td>2012</td>\n",
       "      <td>16836</td>\n",
       "      <td>8.2</td>\n",
       "      <td>361</td>\n",
       "      <td>249.075</td>\n",
       "      <td>229.184</td>\n",
       "    </tr>\n",
       "    <tr>\n",
       "      <th>17</th>\n",
       "      <td>4</td>\n",
       "      <td>2013</td>\n",
       "      <td>24445</td>\n",
       "      <td>7.5</td>\n",
       "      <td>248</td>\n",
       "      <td>238.860</td>\n",
       "      <td>231.707</td>\n",
       "    </tr>\n",
       "    <tr>\n",
       "      <th>18</th>\n",
       "      <td>5</td>\n",
       "      <td>2010</td>\n",
       "      <td>9781</td>\n",
       "      <td>9.6</td>\n",
       "      <td>177</td>\n",
       "      <td>206.172</td>\n",
       "      <td>217.299</td>\n",
       "    </tr>\n",
       "    <tr>\n",
       "      <th>19</th>\n",
       "      <td>5</td>\n",
       "      <td>2011</td>\n",
       "      <td>20006</td>\n",
       "      <td>9.0</td>\n",
       "      <td>376</td>\n",
       "      <td>250.538</td>\n",
       "      <td>224.918</td>\n",
       "    </tr>\n",
       "    <tr>\n",
       "      <th>20</th>\n",
       "      <td>5</td>\n",
       "      <td>2012</td>\n",
       "      <td>18877</td>\n",
       "      <td>8.2</td>\n",
       "      <td>275</td>\n",
       "      <td>242.208</td>\n",
       "      <td>228.884</td>\n",
       "    </tr>\n",
       "    <tr>\n",
       "      <th>21</th>\n",
       "      <td>5</td>\n",
       "      <td>2013</td>\n",
       "      <td>25090</td>\n",
       "      <td>7.5</td>\n",
       "      <td>252</td>\n",
       "      <td>240.972</td>\n",
       "      <td>232.124</td>\n",
       "    </tr>\n",
       "    <tr>\n",
       "      <th>22</th>\n",
       "      <td>6</td>\n",
       "      <td>2010</td>\n",
       "      <td>14245</td>\n",
       "      <td>9.4</td>\n",
       "      <td>138</td>\n",
       "      <td>204.161</td>\n",
       "      <td>217.285</td>\n",
       "    </tr>\n",
       "    <tr>\n",
       "      <th>23</th>\n",
       "      <td>6</td>\n",
       "      <td>2011</td>\n",
       "      <td>19992</td>\n",
       "      <td>9.1</td>\n",
       "      <td>371</td>\n",
       "      <td>246.401</td>\n",
       "      <td>224.990</td>\n",
       "    </tr>\n",
       "    <tr>\n",
       "      <th>24</th>\n",
       "      <td>6</td>\n",
       "      <td>2012</td>\n",
       "      <td>17655</td>\n",
       "      <td>8.2</td>\n",
       "      <td>278</td>\n",
       "      <td>237.514</td>\n",
       "      <td>228.825</td>\n",
       "    </tr>\n",
       "    <tr>\n",
       "      <th>25</th>\n",
       "      <td>6</td>\n",
       "      <td>2013</td>\n",
       "      <td>22163</td>\n",
       "      <td>7.5</td>\n",
       "      <td>320</td>\n",
       "      <td>245.412</td>\n",
       "      <td>232.860</td>\n",
       "    </tr>\n",
       "    <tr>\n",
       "      <th>26</th>\n",
       "      <td>7</td>\n",
       "      <td>2010</td>\n",
       "      <td>18215</td>\n",
       "      <td>9.5</td>\n",
       "      <td>156</td>\n",
       "      <td>206.834</td>\n",
       "      <td>217.677</td>\n",
       "    </tr>\n",
       "    <tr>\n",
       "      <th>27</th>\n",
       "      <td>7</td>\n",
       "      <td>2011</td>\n",
       "      <td>15181</td>\n",
       "      <td>9.0</td>\n",
       "      <td>427</td>\n",
       "      <td>246.968</td>\n",
       "      <td>225.553</td>\n",
       "    </tr>\n",
       "    <tr>\n",
       "      <th>28</th>\n",
       "      <td>7</td>\n",
       "      <td>2012</td>\n",
       "      <td>18512</td>\n",
       "      <td>8.2</td>\n",
       "      <td>423</td>\n",
       "      <td>234.757</td>\n",
       "      <td>228.779</td>\n",
       "    </tr>\n",
       "    <tr>\n",
       "      <th>29</th>\n",
       "      <td>7</td>\n",
       "      <td>2013</td>\n",
       "      <td>23958</td>\n",
       "      <td>7.3</td>\n",
       "      <td>274</td>\n",
       "      <td>245.926</td>\n",
       "      <td>233.252</td>\n",
       "    </tr>\n",
       "    <tr>\n",
       "      <th>30</th>\n",
       "      <td>8</td>\n",
       "      <td>2010</td>\n",
       "      <td>15181</td>\n",
       "      <td>9.5</td>\n",
       "      <td>202</td>\n",
       "      <td>208.927</td>\n",
       "      <td>218.012</td>\n",
       "    </tr>\n",
       "    <tr>\n",
       "      <th>31</th>\n",
       "      <td>8</td>\n",
       "      <td>2011</td>\n",
       "      <td>15054</td>\n",
       "      <td>9.0</td>\n",
       "      <td>336</td>\n",
       "      <td>247.112</td>\n",
       "      <td>226.149</td>\n",
       "    </tr>\n",
       "    <tr>\n",
       "      <th>32</th>\n",
       "      <td>8</td>\n",
       "      <td>2012</td>\n",
       "      <td>17989</td>\n",
       "      <td>8.1</td>\n",
       "      <td>341</td>\n",
       "      <td>245.455</td>\n",
       "      <td>229.952</td>\n",
       "    </tr>\n",
       "    <tr>\n",
       "      <th>33</th>\n",
       "      <td>8</td>\n",
       "      <td>2013</td>\n",
       "      <td>24700</td>\n",
       "      <td>7.2</td>\n",
       "      <td>271</td>\n",
       "      <td>244.917</td>\n",
       "      <td>233.433</td>\n",
       "    </tr>\n",
       "    <tr>\n",
       "      <th>34</th>\n",
       "      <td>9</td>\n",
       "      <td>2010</td>\n",
       "      <td>10062</td>\n",
       "      <td>9.5</td>\n",
       "      <td>150</td>\n",
       "      <td>209.850</td>\n",
       "      <td>218.281</td>\n",
       "    </tr>\n",
       "    <tr>\n",
       "      <th>35</th>\n",
       "      <td>9</td>\n",
       "      <td>2011</td>\n",
       "      <td>14386</td>\n",
       "      <td>9.0</td>\n",
       "      <td>357</td>\n",
       "      <td>249.732</td>\n",
       "      <td>226.674</td>\n",
       "    </tr>\n",
       "    <tr>\n",
       "      <th>36</th>\n",
       "      <td>9</td>\n",
       "      <td>2012</td>\n",
       "      <td>18305</td>\n",
       "      <td>7.8</td>\n",
       "      <td>374</td>\n",
       "      <td>254.333</td>\n",
       "      <td>231.086</td>\n",
       "    </tr>\n",
       "    <tr>\n",
       "      <th>37</th>\n",
       "      <td>9</td>\n",
       "      <td>2013</td>\n",
       "      <td>19691</td>\n",
       "      <td>7.2</td>\n",
       "      <td>298</td>\n",
       "      <td>245.566</td>\n",
       "      <td>233.743</td>\n",
       "    </tr>\n",
       "    <tr>\n",
       "      <th>38</th>\n",
       "      <td>10</td>\n",
       "      <td>2010</td>\n",
       "      <td>9497</td>\n",
       "      <td>9.5</td>\n",
       "      <td>178</td>\n",
       "      <td>216.655</td>\n",
       "      <td>219.024</td>\n",
       "    </tr>\n",
       "    <tr>\n",
       "      <th>39</th>\n",
       "      <td>10</td>\n",
       "      <td>2011</td>\n",
       "      <td>13000</td>\n",
       "      <td>8.8</td>\n",
       "      <td>370</td>\n",
       "      <td>246.971</td>\n",
       "      <td>226.761</td>\n",
       "    </tr>\n",
       "    <tr>\n",
       "      <th>40</th>\n",
       "      <td>10</td>\n",
       "      <td>2012</td>\n",
       "      <td>14512</td>\n",
       "      <td>7.8</td>\n",
       "      <td>257</td>\n",
       "      <td>256.389</td>\n",
       "      <td>231.652</td>\n",
       "    </tr>\n",
       "    <tr>\n",
       "      <th>41</th>\n",
       "      <td>10</td>\n",
       "      <td>2013</td>\n",
       "      <td>14876</td>\n",
       "      <td>7.2</td>\n",
       "      <td>223</td>\n",
       "      <td>243.374</td>\n",
       "      <td>233.782</td>\n",
       "    </tr>\n",
       "    <tr>\n",
       "      <th>42</th>\n",
       "      <td>11</td>\n",
       "      <td>2010</td>\n",
       "      <td>8631</td>\n",
       "      <td>9.8</td>\n",
       "      <td>161</td>\n",
       "      <td>219.303</td>\n",
       "      <td>219.544</td>\n",
       "    </tr>\n",
       "    <tr>\n",
       "      <th>43</th>\n",
       "      <td>11</td>\n",
       "      <td>2011</td>\n",
       "      <td>12414</td>\n",
       "      <td>8.6</td>\n",
       "      <td>255</td>\n",
       "      <td>247.092</td>\n",
       "      <td>227.136</td>\n",
       "    </tr>\n",
       "    <tr>\n",
       "      <th>44</th>\n",
       "      <td>11</td>\n",
       "      <td>2012</td>\n",
       "      <td>15923</td>\n",
       "      <td>7.8</td>\n",
       "      <td>246</td>\n",
       "      <td>248.136</td>\n",
       "      <td>231.190</td>\n",
       "    </tr>\n",
       "    <tr>\n",
       "      <th>45</th>\n",
       "      <td>11</td>\n",
       "      <td>2013</td>\n",
       "      <td>16751</td>\n",
       "      <td>7.0</td>\n",
       "      <td>231</td>\n",
       "      <td>242.301</td>\n",
       "      <td>234.033</td>\n",
       "    </tr>\n",
       "    <tr>\n",
       "      <th>46</th>\n",
       "      <td>12</td>\n",
       "      <td>2010</td>\n",
       "      <td>13096</td>\n",
       "      <td>9.4</td>\n",
       "      <td>170</td>\n",
       "      <td>227.190</td>\n",
       "      <td>220.437</td>\n",
       "    </tr>\n",
       "    <tr>\n",
       "      <th>47</th>\n",
       "      <td>12</td>\n",
       "      <td>2011</td>\n",
       "      <td>13025</td>\n",
       "      <td>8.5</td>\n",
       "      <td>253</td>\n",
       "      <td>243.015</td>\n",
       "      <td>227.093</td>\n",
       "    </tr>\n",
       "    <tr>\n",
       "      <th>48</th>\n",
       "      <td>12</td>\n",
       "      <td>2012</td>\n",
       "      <td>19024</td>\n",
       "      <td>7.9</td>\n",
       "      <td>275</td>\n",
       "      <td>244.698</td>\n",
       "      <td>231.099</td>\n",
       "    </tr>\n",
       "    <tr>\n",
       "      <th>49</th>\n",
       "      <td>12</td>\n",
       "      <td>2013</td>\n",
       "      <td>21692</td>\n",
       "      <td>6.7</td>\n",
       "      <td>279</td>\n",
       "      <td>246.189</td>\n",
       "      <td>234.594</td>\n",
       "    </tr>\n",
       "  </tbody>\n",
       "</table>\n",
       "</div>"
      ],
      "text/plain": [
       "    Month  Year  ElantraSales  Unemployment  Queries  CPI_energy  CPI_all\n",
       "0       1  2010          7690           9.7      153     213.377  217.466\n",
       "1       1  2011          9659           9.1      259     229.353  221.082\n",
       "2       1  2012         10900           8.2      354     244.178  227.666\n",
       "3       1  2013         12174           7.9      230     242.560  231.321\n",
       "4       1  2014         15326           6.6      232     247.575  234.933\n",
       "5       2  2010          7966           9.8      130     209.924  217.251\n",
       "6       2  2011         12289           9.0      266     232.188  221.816\n",
       "7       2  2012         13820           8.3      296     247.615  228.138\n",
       "8       2  2013         16219           7.7      239     252.639  232.599\n",
       "9       2  2014         16393           6.7      240     246.389  235.169\n",
       "10      3  2010          8225           9.9      138     209.163  217.305\n",
       "11      3  2011         19255           9.0      281     239.454  222.955\n",
       "12      3  2012         19681           8.2      303     249.095  228.732\n",
       "13      3  2013         26153           7.5      313     244.598  232.075\n",
       "14      4  2010          9657           9.9      132     209.024  217.376\n",
       "15      4  2011         22100           9.1      305     247.129  224.056\n",
       "16      4  2012         16836           8.2      361     249.075  229.184\n",
       "17      4  2013         24445           7.5      248     238.860  231.707\n",
       "18      5  2010          9781           9.6      177     206.172  217.299\n",
       "19      5  2011         20006           9.0      376     250.538  224.918\n",
       "20      5  2012         18877           8.2      275     242.208  228.884\n",
       "21      5  2013         25090           7.5      252     240.972  232.124\n",
       "22      6  2010         14245           9.4      138     204.161  217.285\n",
       "23      6  2011         19992           9.1      371     246.401  224.990\n",
       "24      6  2012         17655           8.2      278     237.514  228.825\n",
       "25      6  2013         22163           7.5      320     245.412  232.860\n",
       "26      7  2010         18215           9.5      156     206.834  217.677\n",
       "27      7  2011         15181           9.0      427     246.968  225.553\n",
       "28      7  2012         18512           8.2      423     234.757  228.779\n",
       "29      7  2013         23958           7.3      274     245.926  233.252\n",
       "30      8  2010         15181           9.5      202     208.927  218.012\n",
       "31      8  2011         15054           9.0      336     247.112  226.149\n",
       "32      8  2012         17989           8.1      341     245.455  229.952\n",
       "33      8  2013         24700           7.2      271     244.917  233.433\n",
       "34      9  2010         10062           9.5      150     209.850  218.281\n",
       "35      9  2011         14386           9.0      357     249.732  226.674\n",
       "36      9  2012         18305           7.8      374     254.333  231.086\n",
       "37      9  2013         19691           7.2      298     245.566  233.743\n",
       "38     10  2010          9497           9.5      178     216.655  219.024\n",
       "39     10  2011         13000           8.8      370     246.971  226.761\n",
       "40     10  2012         14512           7.8      257     256.389  231.652\n",
       "41     10  2013         14876           7.2      223     243.374  233.782\n",
       "42     11  2010          8631           9.8      161     219.303  219.544\n",
       "43     11  2011         12414           8.6      255     247.092  227.136\n",
       "44     11  2012         15923           7.8      246     248.136  231.190\n",
       "45     11  2013         16751           7.0      231     242.301  234.033\n",
       "46     12  2010         13096           9.4      170     227.190  220.437\n",
       "47     12  2011         13025           8.5      253     243.015  227.093\n",
       "48     12  2012         19024           7.9      275     244.698  231.099\n",
       "49     12  2013         21692           6.7      279     246.189  234.594"
      ]
     },
     "execution_count": 1,
     "metadata": {},
     "output_type": "execute_result"
    }
   ],
   "source": [
    "import numpy as np \n",
    "import matplotlib.pyplot as plt \n",
    "import pandas as pd \n",
    "import seaborn as sns\n",
    "sns.set(rc={'figure.figsize':(15,7.5)})\n",
    "# Importing the dataset \n",
    "datas = pd.read_csv('https://raw.githubusercontent.com/JeevanshuDua/csvfiles/main/elantra.csv')\n",
    "datas "
   ]
  },
  {
   "cell_type": "code",
   "execution_count": 2,
   "metadata": {},
   "outputs": [
    {
     "data": {
      "text/html": [
       "<div>\n",
       "<style scoped>\n",
       "    .dataframe tbody tr th:only-of-type {\n",
       "        vertical-align: middle;\n",
       "    }\n",
       "\n",
       "    .dataframe tbody tr th {\n",
       "        vertical-align: top;\n",
       "    }\n",
       "\n",
       "    .dataframe thead th {\n",
       "        text-align: right;\n",
       "    }\n",
       "</style>\n",
       "<table border=\"1\" class=\"dataframe\">\n",
       "  <thead>\n",
       "    <tr style=\"text-align: right;\">\n",
       "      <th></th>\n",
       "      <th>Month</th>\n",
       "      <th>Year</th>\n",
       "      <th>ElantraSales</th>\n",
       "      <th>Unemployment</th>\n",
       "      <th>Queries</th>\n",
       "      <th>CPI_energy</th>\n",
       "      <th>CPI_all</th>\n",
       "    </tr>\n",
       "  </thead>\n",
       "  <tbody>\n",
       "    <tr>\n",
       "      <th>Month</th>\n",
       "      <td>1.000000</td>\n",
       "      <td>-0.113547</td>\n",
       "      <td>0.071402</td>\n",
       "      <td>-0.066478</td>\n",
       "      <td>0.036977</td>\n",
       "      <td>0.097092</td>\n",
       "      <td>0.114893</td>\n",
       "    </tr>\n",
       "    <tr>\n",
       "      <th>Year</th>\n",
       "      <td>-0.113547</td>\n",
       "      <td>1.000000</td>\n",
       "      <td>0.622075</td>\n",
       "      <td>-0.972425</td>\n",
       "      <td>0.381183</td>\n",
       "      <td>0.714229</td>\n",
       "      <td>0.955978</td>\n",
       "    </tr>\n",
       "    <tr>\n",
       "      <th>ElantraSales</th>\n",
       "      <td>0.071402</td>\n",
       "      <td>0.622075</td>\n",
       "      <td>1.000000</td>\n",
       "      <td>-0.623506</td>\n",
       "      <td>0.480180</td>\n",
       "      <td>0.544328</td>\n",
       "      <td>0.640257</td>\n",
       "    </tr>\n",
       "    <tr>\n",
       "      <th>Unemployment</th>\n",
       "      <td>-0.066478</td>\n",
       "      <td>-0.972425</td>\n",
       "      <td>-0.623506</td>\n",
       "      <td>1.000000</td>\n",
       "      <td>-0.349408</td>\n",
       "      <td>-0.701494</td>\n",
       "      <td>-0.963583</td>\n",
       "    </tr>\n",
       "    <tr>\n",
       "      <th>Queries</th>\n",
       "      <td>0.036977</td>\n",
       "      <td>0.381183</td>\n",
       "      <td>0.480180</td>\n",
       "      <td>-0.349408</td>\n",
       "      <td>1.000000</td>\n",
       "      <td>0.760016</td>\n",
       "      <td>0.508056</td>\n",
       "    </tr>\n",
       "    <tr>\n",
       "      <th>CPI_energy</th>\n",
       "      <td>0.097092</td>\n",
       "      <td>0.714229</td>\n",
       "      <td>0.544328</td>\n",
       "      <td>-0.701494</td>\n",
       "      <td>0.760016</td>\n",
       "      <td>1.000000</td>\n",
       "      <td>0.840991</td>\n",
       "    </tr>\n",
       "    <tr>\n",
       "      <th>CPI_all</th>\n",
       "      <td>0.114893</td>\n",
       "      <td>0.955978</td>\n",
       "      <td>0.640257</td>\n",
       "      <td>-0.963583</td>\n",
       "      <td>0.508056</td>\n",
       "      <td>0.840991</td>\n",
       "      <td>1.000000</td>\n",
       "    </tr>\n",
       "  </tbody>\n",
       "</table>\n",
       "</div>"
      ],
      "text/plain": [
       "                 Month      Year  ElantraSales  Unemployment   Queries  \\\n",
       "Month         1.000000 -0.113547      0.071402     -0.066478  0.036977   \n",
       "Year         -0.113547  1.000000      0.622075     -0.972425  0.381183   \n",
       "ElantraSales  0.071402  0.622075      1.000000     -0.623506  0.480180   \n",
       "Unemployment -0.066478 -0.972425     -0.623506      1.000000 -0.349408   \n",
       "Queries       0.036977  0.381183      0.480180     -0.349408  1.000000   \n",
       "CPI_energy    0.097092  0.714229      0.544328     -0.701494  0.760016   \n",
       "CPI_all       0.114893  0.955978      0.640257     -0.963583  0.508056   \n",
       "\n",
       "              CPI_energy   CPI_all  \n",
       "Month           0.097092  0.114893  \n",
       "Year            0.714229  0.955978  \n",
       "ElantraSales    0.544328  0.640257  \n",
       "Unemployment   -0.701494 -0.963583  \n",
       "Queries         0.760016  0.508056  \n",
       "CPI_energy      1.000000  0.840991  \n",
       "CPI_all         0.840991  1.000000  "
      ]
     },
     "execution_count": 2,
     "metadata": {},
     "output_type": "execute_result"
    }
   ],
   "source": [
    "datas.corr()"
   ]
  },
  {
   "cell_type": "code",
   "execution_count": null,
   "metadata": {},
   "outputs": [],
   "source": []
  },
  {
   "cell_type": "code",
   "execution_count": 3,
   "metadata": {},
   "outputs": [
    {
     "data": {
      "text/plain": [
       "<AxesSubplot:>"
      ]
     },
     "execution_count": 3,
     "metadata": {},
     "output_type": "execute_result"
    },
    {
     "data": {
      "image/png": "[encoded data removed]",
      "text/plain": [
       "<Figure size 1080x540 with 2 Axes>"
      ]
     },
     "metadata": {},
     "output_type": "display_data"
    }
   ],
   "source": [
    "sns.heatmap(datas.corr(),annot=True)"
   ]
  },
  {
   "cell_type": "code",
   "execution_count": 4,
   "metadata": {},
   "outputs": [],
   "source": [
    "X = datas.drop('ElantraSales', axis=1)   \n",
    "y = datas['ElantraSales']"
   ]
  },
  {
   "cell_type": "code",
   "execution_count": 5,
   "metadata": {},
   "outputs": [
    {
     "data": {
      "text/html": [
       "<div>\n",
       "<style scoped>\n",
       "    .dataframe tbody tr th:only-of-type {\n",
       "        vertical-align: middle;\n",
       "    }\n",
       "\n",
       "    .dataframe tbody tr th {\n",
       "        vertical-align: top;\n",
       "    }\n",
       "\n",
       "    .dataframe thead th {\n",
       "        text-align: right;\n",
       "    }\n",
       "</style>\n",
       "<table border=\"1\" class=\"dataframe\">\n",
       "  <thead>\n",
       "    <tr style=\"text-align: right;\">\n",
       "      <th></th>\n",
       "      <th>Month</th>\n",
       "      <th>Year</th>\n",
       "      <th>Unemployment</th>\n",
       "      <th>Queries</th>\n",
       "      <th>CPI_energy</th>\n",
       "      <th>CPI_all</th>\n",
       "    </tr>\n",
       "  </thead>\n",
       "  <tbody>\n",
       "    <tr>\n",
       "      <th>0</th>\n",
       "      <td>1</td>\n",
       "      <td>2010</td>\n",
       "      <td>9.7</td>\n",
       "      <td>153</td>\n",
       "      <td>213.377</td>\n",
       "      <td>217.466</td>\n",
       "    </tr>\n",
       "    <tr>\n",
       "      <th>1</th>\n",
       "      <td>1</td>\n",
       "      <td>2011</td>\n",
       "      <td>9.1</td>\n",
       "      <td>259</td>\n",
       "      <td>229.353</td>\n",
       "      <td>221.082</td>\n",
       "    </tr>\n",
       "    <tr>\n",
       "      <th>2</th>\n",
       "      <td>1</td>\n",
       "      <td>2012</td>\n",
       "      <td>8.2</td>\n",
       "      <td>354</td>\n",
       "      <td>244.178</td>\n",
       "      <td>227.666</td>\n",
       "    </tr>\n",
       "    <tr>\n",
       "      <th>3</th>\n",
       "      <td>1</td>\n",
       "      <td>2013</td>\n",
       "      <td>7.9</td>\n",
       "      <td>230</td>\n",
       "      <td>242.560</td>\n",
       "      <td>231.321</td>\n",
       "    </tr>\n",
       "    <tr>\n",
       "      <th>4</th>\n",
       "      <td>1</td>\n",
       "      <td>2014</td>\n",
       "      <td>6.6</td>\n",
       "      <td>232</td>\n",
       "      <td>247.575</td>\n",
       "      <td>234.933</td>\n",
       "    </tr>\n",
       "  </tbody>\n",
       "</table>\n",
       "</div>"
      ],
      "text/plain": [
       "   Month  Year  Unemployment  Queries  CPI_energy  CPI_all\n",
       "0      1  2010           9.7      153     213.377  217.466\n",
       "1      1  2011           9.1      259     229.353  221.082\n",
       "2      1  2012           8.2      354     244.178  227.666\n",
       "3      1  2013           7.9      230     242.560  231.321\n",
       "4      1  2014           6.6      232     247.575  234.933"
      ]
     },
     "execution_count": 5,
     "metadata": {},
     "output_type": "execute_result"
    }
   ],
   "source": [
    "X.head()"
   ]
  },
  {
   "cell_type": "code",
   "execution_count": 6,
   "metadata": {},
   "outputs": [
    {
     "data": {
      "text/plain": [
       "0     7690\n",
       "1     9659\n",
       "2    10900\n",
       "3    12174\n",
       "4    15326\n",
       "Name: ElantraSales, dtype: int64"
      ]
     },
     "execution_count": 6,
     "metadata": {},
     "output_type": "execute_result"
    }
   ],
   "source": [
    "y.head()"
   ]
  },
  {
   "cell_type": "code",
   "execution_count": 7,
   "metadata": {
    "scrolled": true
   },
   "outputs": [
    {
     "data": {
      "text/plain": [
       "0.49666902640117505"
      ]
     },
     "execution_count": 7,
     "metadata": {},
     "output_type": "execute_result"
    }
   ],
   "source": [
    "from sklearn.linear_model import LinearRegression \n",
    "lin = LinearRegression() \n",
    "  \n",
    "lin.fit(X, y) \n",
    "lin.score(X, y)"
   ]
  },
  {
   "cell_type": "code",
   "execution_count": 8,
   "metadata": {},
   "outputs": [],
   "source": [
    "# from sklearn.metrics import r2_score\n",
    "# r2_score(X, y)"
   ]
  },
  {
   "cell_type": "markdown",
   "metadata": {},
   "source": [
    "### Linear Regression"
   ]
  },
  {
   "cell_type": "code",
   "execution_count": 9,
   "metadata": {},
   "outputs": [
    {
     "data": {
      "text/plain": [
       "array([[ 1],\n",
       "       [ 1],\n",
       "       [ 1],\n",
       "       [ 1],\n",
       "       [ 1],\n",
       "       [ 2],\n",
       "       [ 2],\n",
       "       [ 2],\n",
       "       [ 2],\n",
       "       [ 2],\n",
       "       [ 3],\n",
       "       [ 3],\n",
       "       [ 3],\n",
       "       [ 3],\n",
       "       [ 4],\n",
       "       [ 4],\n",
       "       [ 4],\n",
       "       [ 4],\n",
       "       [ 5],\n",
       "       [ 5],\n",
       "       [ 5],\n",
       "       [ 5],\n",
       "       [ 6],\n",
       "       [ 6],\n",
       "       [ 6],\n",
       "       [ 6],\n",
       "       [ 7],\n",
       "       [ 7],\n",
       "       [ 7],\n",
       "       [ 7],\n",
       "       [ 8],\n",
       "       [ 8],\n",
       "       [ 8],\n",
       "       [ 8],\n",
       "       [ 9],\n",
       "       [ 9],\n",
       "       [ 9],\n",
       "       [ 9],\n",
       "       [10],\n",
       "       [10],\n",
       "       [10],\n",
       "       [10],\n",
       "       [11],\n",
       "       [11],\n",
       "       [11],\n",
       "       [11],\n",
       "       [12],\n",
       "       [12],\n",
       "       [12],\n",
       "       [12]], dtype=int64)"
      ]
     },
     "execution_count": 9,
     "metadata": {},
     "output_type": "execute_result"
    }
   ],
   "source": [
    "X.iloc[:,0].values.reshape(-1,1)"
   ]
  },
  {
   "cell_type": "code",
   "execution_count": 10,
   "metadata": {},
   "outputs": [
    {
     "data": {
      "text/plain": [
       "0.005098302972097679"
      ]
     },
     "execution_count": 10,
     "metadata": {},
     "output_type": "execute_result"
    }
   ],
   "source": [
    "from sklearn.linear_model import LinearRegression \n",
    "lin = LinearRegression() \n",
    "  \n",
    "lin.fit(X.iloc[:,0].values.reshape(-1,1), y) \n",
    "lin.score(X.iloc[:,0].values.reshape(-1,1),y)"
   ]
  },
  {
   "cell_type": "code",
   "execution_count": 11,
   "metadata": {
    "scrolled": true
   },
   "outputs": [
    {
     "data": {
      "image/png": "[encoded data removed]",
      "text/plain": [
       "<Figure size 1080x540 with 1 Axes>"
      ]
     },
     "metadata": {},
     "output_type": "display_data"
    }
   ],
   "source": [
    "plt.scatter(X.iloc[:,0].values.reshape(-1,1), y, color = 'blue')  \n",
    "plt.plot(X.iloc[:,0].values.reshape(-1,1), lin.predict(X.iloc[:,0].values.reshape(-1,1)), color = 'red') \n",
    "plt.title('Linear Regression') \n",
    "plt.show() "
   ]
  },
  {
   "cell_type": "code",
   "execution_count": 12,
   "metadata": {},
   "outputs": [],
   "source": [
    "from sklearn.preprocessing import PolynomialFeatures\n",
    "\n",
    "poly = PolynomialFeatures(degree = 2)"
   ]
  },
  {
   "cell_type": "code",
   "execution_count": 13,
   "metadata": {},
   "outputs": [
    {
     "data": {
      "text/plain": [
       "array([[ 1.,  2.,  3.,  4.,  4.,  6.,  8.,  9., 12., 16.]])"
      ]
     },
     "execution_count": 13,
     "metadata": {},
     "output_type": "execute_result"
    }
   ],
   "source": [
    "Ex=np.array([[2,3,4]])\n",
    "Ex_poly=poly.fit_transform(Ex)\n",
    "Ex_poly"
   ]
  },
  {
   "cell_type": "markdown",
   "metadata": {},
   "source": [
    "### If you have features [a, b, c] the default polynomial features(in sklearn the degree is 2) should be [1, a, b, c, a^2, b^2, c^2, ab, ac, bc].\n"
   ]
  },
  {
   "cell_type": "markdown",
   "metadata": {},
   "source": [
    "### Polynomial Regression"
   ]
  },
  {
   "cell_type": "code",
   "execution_count": 14,
   "metadata": {},
   "outputs": [
    {
     "data": {
      "text/plain": [
       "LinearRegression()"
      ]
     },
     "execution_count": 14,
     "metadata": {},
     "output_type": "execute_result"
    }
   ],
   "source": [
    "from sklearn.preprocessing import PolynomialFeatures\n",
    "poly = PolynomialFeatures(degree = 3) \n",
    "X_poly = poly.fit_transform(X.iloc[:,0].values.reshape(-1,1)) \n",
    "lin2 = LinearRegression() \n",
    "lin2.fit(X_poly, y)"
   ]
  },
  {
   "cell_type": "code",
   "execution_count": 15,
   "metadata": {},
   "outputs": [
    {
     "data": {
      "text/plain": [
       "array([[1.000e+00, 1.000e+00, 1.000e+00, 1.000e+00],\n",
       "       [1.000e+00, 1.000e+00, 1.000e+00, 1.000e+00],\n",
       "       [1.000e+00, 1.000e+00, 1.000e+00, 1.000e+00],\n",
       "       [1.000e+00, 1.000e+00, 1.000e+00, 1.000e+00],\n",
       "       [1.000e+00, 1.000e+00, 1.000e+00, 1.000e+00],\n",
       "       [1.000e+00, 2.000e+00, 4.000e+00, 8.000e+00],\n",
       "       [1.000e+00, 2.000e+00, 4.000e+00, 8.000e+00],\n",
       "       [1.000e+00, 2.000e+00, 4.000e+00, 8.000e+00],\n",
       "       [1.000e+00, 2.000e+00, 4.000e+00, 8.000e+00],\n",
       "       [1.000e+00, 2.000e+00, 4.000e+00, 8.000e+00],\n",
       "       [1.000e+00, 3.000e+00, 9.000e+00, 2.700e+01],\n",
       "       [1.000e+00, 3.000e+00, 9.000e+00, 2.700e+01],\n",
       "       [1.000e+00, 3.000e+00, 9.000e+00, 2.700e+01],\n",
       "       [1.000e+00, 3.000e+00, 9.000e+00, 2.700e+01],\n",
       "       [1.000e+00, 4.000e+00, 1.600e+01, 6.400e+01],\n",
       "       [1.000e+00, 4.000e+00, 1.600e+01, 6.400e+01],\n",
       "       [1.000e+00, 4.000e+00, 1.600e+01, 6.400e+01],\n",
       "       [1.000e+00, 4.000e+00, 1.600e+01, 6.400e+01],\n",
       "       [1.000e+00, 5.000e+00, 2.500e+01, 1.250e+02],\n",
       "       [1.000e+00, 5.000e+00, 2.500e+01, 1.250e+02],\n",
       "       [1.000e+00, 5.000e+00, 2.500e+01, 1.250e+02],\n",
       "       [1.000e+00, 5.000e+00, 2.500e+01, 1.250e+02],\n",
       "       [1.000e+00, 6.000e+00, 3.600e+01, 2.160e+02],\n",
       "       [1.000e+00, 6.000e+00, 3.600e+01, 2.160e+02],\n",
       "       [1.000e+00, 6.000e+00, 3.600e+01, 2.160e+02],\n",
       "       [1.000e+00, 6.000e+00, 3.600e+01, 2.160e+02],\n",
       "       [1.000e+00, 7.000e+00, 4.900e+01, 3.430e+02],\n",
       "       [1.000e+00, 7.000e+00, 4.900e+01, 3.430e+02],\n",
       "       [1.000e+00, 7.000e+00, 4.900e+01, 3.430e+02],\n",
       "       [1.000e+00, 7.000e+00, 4.900e+01, 3.430e+02],\n",
       "       [1.000e+00, 8.000e+00, 6.400e+01, 5.120e+02],\n",
       "       [1.000e+00, 8.000e+00, 6.400e+01, 5.120e+02],\n",
       "       [1.000e+00, 8.000e+00, 6.400e+01, 5.120e+02],\n",
       "       [1.000e+00, 8.000e+00, 6.400e+01, 5.120e+02],\n",
       "       [1.000e+00, 9.000e+00, 8.100e+01, 7.290e+02],\n",
       "       [1.000e+00, 9.000e+00, 8.100e+01, 7.290e+02],\n",
       "       [1.000e+00, 9.000e+00, 8.100e+01, 7.290e+02],\n",
       "       [1.000e+00, 9.000e+00, 8.100e+01, 7.290e+02],\n",
       "       [1.000e+00, 1.000e+01, 1.000e+02, 1.000e+03],\n",
       "       [1.000e+00, 1.000e+01, 1.000e+02, 1.000e+03],\n",
       "       [1.000e+00, 1.000e+01, 1.000e+02, 1.000e+03],\n",
       "       [1.000e+00, 1.000e+01, 1.000e+02, 1.000e+03],\n",
       "       [1.000e+00, 1.100e+01, 1.210e+02, 1.331e+03],\n",
       "       [1.000e+00, 1.100e+01, 1.210e+02, 1.331e+03],\n",
       "       [1.000e+00, 1.100e+01, 1.210e+02, 1.331e+03],\n",
       "       [1.000e+00, 1.100e+01, 1.210e+02, 1.331e+03],\n",
       "       [1.000e+00, 1.200e+01, 1.440e+02, 1.728e+03],\n",
       "       [1.000e+00, 1.200e+01, 1.440e+02, 1.728e+03],\n",
       "       [1.000e+00, 1.200e+01, 1.440e+02, 1.728e+03],\n",
       "       [1.000e+00, 1.200e+01, 1.440e+02, 1.728e+03]])"
      ]
     },
     "execution_count": 15,
     "metadata": {},
     "output_type": "execute_result"
    }
   ],
   "source": [
    "X_poly"
   ]
  },
  {
   "cell_type": "code",
   "execution_count": 16,
   "metadata": {},
   "outputs": [
    {
     "data": {
      "text/plain": [
       "array([10366.08400139, 10366.08400139, 10366.08400139, 10366.08400139,\n",
       "       10366.08400139, 14679.72793949, 14679.72793949, 14679.72793949,\n",
       "       14679.72793949, 14679.72793949, 17393.81506738, 17393.81506738,\n",
       "       17393.81506738, 17393.81506738, 18784.33636957, 18784.33636957,\n",
       "       18784.33636957, 18784.33636957, 19127.28283055, 19127.28283055,\n",
       "       19127.28283055, 19127.28283055, 18698.64543484, 18698.64543484,\n",
       "       18698.64543484, 18698.64543484, 17774.41516693, 17774.41516693,\n",
       "       17774.41516693, 17774.41516693, 16630.58301134, 16630.58301134,\n",
       "       16630.58301134, 16630.58301134, 15543.13995256, 15543.13995256,\n",
       "       15543.13995256, 15543.13995256, 14788.0769751 , 14788.0769751 ,\n",
       "       14788.0769751 , 14788.0769751 , 14641.38506347, 14641.38506347,\n",
       "       14641.38506347, 14641.38506347, 15379.05520216, 15379.05520216,\n",
       "       15379.05520216, 15379.05520216])"
      ]
     },
     "execution_count": 16,
     "metadata": {},
     "output_type": "execute_result"
    }
   ],
   "source": [
    "lin2.predict(poly.fit_transform(X.iloc[:,0].values.reshape(-1,1)))"
   ]
  },
  {
   "cell_type": "code",
   "execution_count": 17,
   "metadata": {},
   "outputs": [
    {
     "data": {
      "image/png": "[encoded data removed]",
      "text/plain": [
       "<Figure size 1080x540 with 1 Axes>"
      ]
     },
     "metadata": {},
     "output_type": "display_data"
    }
   ],
   "source": [
    "plt.scatter(X.iloc[:,0].values.reshape(-1,1), y, color = 'blue')   \n",
    "plt.plot(X.iloc[:,0].values.reshape(-1,1), lin2.predict(poly.fit_transform(X.iloc[:,0].values.reshape(-1,1))), 'r--') \n",
    "plt.title('Polynomial Regression') \n",
    "\n",
    "plt.show() "
   ]
  },
  {
   "cell_type": "code",
   "execution_count": 18,
   "metadata": {},
   "outputs": [
    {
     "data": {
      "text/plain": [
       "0.25990531009078754"
      ]
     },
     "execution_count": 18,
     "metadata": {},
     "output_type": "execute_result"
    }
   ],
   "source": [
    "lin2.score(poly.fit_transform(X.iloc[:,0].values.reshape(-1,1)),y)"
   ]
  },
  {
   "cell_type": "code",
   "execution_count": 19,
   "metadata": {},
   "outputs": [],
   "source": [
    "poly = PolynomialFeatures(degree = 3) \n",
    "X_poly1 = poly.fit_transform(X.iloc[:,1].values.reshape(-1,1)) "
   ]
  },
  {
   "cell_type": "code",
   "execution_count": 20,
   "metadata": {},
   "outputs": [],
   "source": [
    "poly = PolynomialFeatures(degree = 2) \n",
    "X_poly2 = poly.fit_transform(X.iloc[:,2].values.reshape(-1,1)) "
   ]
  },
  {
   "cell_type": "code",
   "execution_count": 21,
   "metadata": {},
   "outputs": [],
   "source": [
    "poly = PolynomialFeatures(degree = 3) \n",
    "X_poly3 = poly.fit_transform(X.iloc[:,3].values.reshape(-1,1)) "
   ]
  },
  {
   "cell_type": "code",
   "execution_count": 22,
   "metadata": {},
   "outputs": [],
   "source": [
    "poly = PolynomialFeatures(degree = 2) \n",
    "X_poly4 = poly.fit_transform(X.iloc[:,4].values.reshape(-1,1)) "
   ]
  },
  {
   "cell_type": "code",
   "execution_count": 23,
   "metadata": {},
   "outputs": [],
   "source": [
    "X_poly5 = X.iloc[:,5].values.reshape(-1,1)"
   ]
  },
  {
   "cell_type": "code",
   "execution_count": 24,
   "metadata": {},
   "outputs": [],
   "source": [
    "X = np.concatenate((X_poly,X_poly1,X_poly2,X_poly3,X_poly4,X_poly5), axis=1)"
   ]
  },
  {
   "cell_type": "code",
   "execution_count": 25,
   "metadata": {},
   "outputs": [
    {
     "data": {
      "text/plain": [
       "array([[1.00000000e+00, 1.00000000e+00, 1.00000000e+00, 1.00000000e+00,\n",
       "        1.00000000e+00, 2.01000000e+03, 4.04010000e+06, 8.12060100e+09,\n",
       "        1.00000000e+00, 9.70000000e+00, 9.40900000e+01, 1.00000000e+00,\n",
       "        1.53000000e+02, 2.34090000e+04, 3.58157700e+06, 1.00000000e+00,\n",
       "        2.13377000e+02, 4.55297441e+04, 2.17466000e+02],\n",
       "       [1.00000000e+00, 1.00000000e+00, 1.00000000e+00, 1.00000000e+00,\n",
       "        1.00000000e+00, 2.01100000e+03, 4.04412100e+06, 8.13272733e+09,\n",
       "        1.00000000e+00, 9.10000000e+00, 8.28100000e+01, 1.00000000e+00,\n",
       "        2.59000000e+02, 6.70810000e+04, 1.73739790e+07, 1.00000000e+00,\n",
       "        2.29353000e+02, 5.26027986e+04, 2.21082000e+02],\n",
       "       [1.00000000e+00, 1.00000000e+00, 1.00000000e+00, 1.00000000e+00,\n",
       "        1.00000000e+00, 2.01200000e+03, 4.04814400e+06, 8.14486573e+09,\n",
       "        1.00000000e+00, 8.20000000e+00, 6.72400000e+01, 1.00000000e+00,\n",
       "        3.54000000e+02, 1.25316000e+05, 4.43618640e+07, 1.00000000e+00,\n",
       "        2.44178000e+02, 5.96228957e+04, 2.27666000e+02],\n",
       "       [1.00000000e+00, 1.00000000e+00, 1.00000000e+00, 1.00000000e+00,\n",
       "        1.00000000e+00, 2.01300000e+03, 4.05216900e+06, 8.15701620e+09,\n",
       "        1.00000000e+00, 7.90000000e+00, 6.24100000e+01, 1.00000000e+00,\n",
       "        2.30000000e+02, 5.29000000e+04, 1.21670000e+07, 1.00000000e+00,\n",
       "        2.42560000e+02, 5.88353536e+04, 2.31321000e+02],\n",
       "       [1.00000000e+00, 1.00000000e+00, 1.00000000e+00, 1.00000000e+00,\n",
       "        1.00000000e+00, 2.01400000e+03, 4.05619600e+06, 8.16917874e+09,\n",
       "        1.00000000e+00, 6.60000000e+00, 4.35600000e+01, 1.00000000e+00,\n",
       "        2.32000000e+02, 5.38240000e+04, 1.24871680e+07, 1.00000000e+00,\n",
       "        2.47575000e+02, 6.12933806e+04, 2.34933000e+02],\n",
       "       [1.00000000e+00, 2.00000000e+00, 4.00000000e+00, 8.00000000e+00,\n",
       "        1.00000000e+00, 2.01000000e+03, 4.04010000e+06, 8.12060100e+09,\n",
       "        1.00000000e+00, 9.80000000e+00, 9.60400000e+01, 1.00000000e+00,\n",
       "        1.30000000e+02, 1.69000000e+04, 2.19700000e+06, 1.00000000e+00,\n",
       "        2.09924000e+02, 4.40680858e+04, 2.17251000e+02],\n",
       "       [1.00000000e+00, 2.00000000e+00, 4.00000000e+00, 8.00000000e+00,\n",
       "        1.00000000e+00, 2.01100000e+03, 4.04412100e+06, 8.13272733e+09,\n",
       "        1.00000000e+00, 9.00000000e+00, 8.10000000e+01, 1.00000000e+00,\n",
       "        2.66000000e+02, 7.07560000e+04, 1.88210960e+07, 1.00000000e+00,\n",
       "        2.32188000e+02, 5.39112673e+04, 2.21816000e+02],\n",
       "       [1.00000000e+00, 2.00000000e+00, 4.00000000e+00, 8.00000000e+00,\n",
       "        1.00000000e+00, 2.01200000e+03, 4.04814400e+06, 8.14486573e+09,\n",
       "        1.00000000e+00, 8.30000000e+00, 6.88900000e+01, 1.00000000e+00,\n",
       "        2.96000000e+02, 8.76160000e+04, 2.59343360e+07, 1.00000000e+00,\n",
       "        2.47615000e+02, 6.13131882e+04, 2.28138000e+02],\n",
       "       [1.00000000e+00, 2.00000000e+00, 4.00000000e+00, 8.00000000e+00,\n",
       "        1.00000000e+00, 2.01300000e+03, 4.05216900e+06, 8.15701620e+09,\n",
       "        1.00000000e+00, 7.70000000e+00, 5.92900000e+01, 1.00000000e+00,\n",
       "        2.39000000e+02, 5.71210000e+04, 1.36519190e+07, 1.00000000e+00,\n",
       "        2.52639000e+02, 6.38264643e+04, 2.32599000e+02],\n",
       "       [1.00000000e+00, 2.00000000e+00, 4.00000000e+00, 8.00000000e+00,\n",
       "        1.00000000e+00, 2.01400000e+03, 4.05619600e+06, 8.16917874e+09,\n",
       "        1.00000000e+00, 6.70000000e+00, 4.48900000e+01, 1.00000000e+00,\n",
       "        2.40000000e+02, 5.76000000e+04, 1.38240000e+07, 1.00000000e+00,\n",
       "        2.46389000e+02, 6.07075393e+04, 2.35169000e+02],\n",
       "       [1.00000000e+00, 3.00000000e+00, 9.00000000e+00, 2.70000000e+01,\n",
       "        1.00000000e+00, 2.01000000e+03, 4.04010000e+06, 8.12060100e+09,\n",
       "        1.00000000e+00, 9.90000000e+00, 9.80100000e+01, 1.00000000e+00,\n",
       "        1.38000000e+02, 1.90440000e+04, 2.62807200e+06, 1.00000000e+00,\n",
       "        2.09163000e+02, 4.37491606e+04, 2.17305000e+02],\n",
       "       [1.00000000e+00, 3.00000000e+00, 9.00000000e+00, 2.70000000e+01,\n",
       "        1.00000000e+00, 2.01100000e+03, 4.04412100e+06, 8.13272733e+09,\n",
       "        1.00000000e+00, 9.00000000e+00, 8.10000000e+01, 1.00000000e+00,\n",
       "        2.81000000e+02, 7.89610000e+04, 2.21880410e+07, 1.00000000e+00,\n",
       "        2.39454000e+02, 5.73382181e+04, 2.22955000e+02],\n",
       "       [1.00000000e+00, 3.00000000e+00, 9.00000000e+00, 2.70000000e+01,\n",
       "        1.00000000e+00, 2.01200000e+03, 4.04814400e+06, 8.14486573e+09,\n",
       "        1.00000000e+00, 8.20000000e+00, 6.72400000e+01, 1.00000000e+00,\n",
       "        3.03000000e+02, 9.18090000e+04, 2.78181270e+07, 1.00000000e+00,\n",
       "        2.49095000e+02, 6.20483190e+04, 2.28732000e+02],\n",
       "       [1.00000000e+00, 3.00000000e+00, 9.00000000e+00, 2.70000000e+01,\n",
       "        1.00000000e+00, 2.01300000e+03, 4.05216900e+06, 8.15701620e+09,\n",
       "        1.00000000e+00, 7.50000000e+00, 5.62500000e+01, 1.00000000e+00,\n",
       "        3.13000000e+02, 9.79690000e+04, 3.06642970e+07, 1.00000000e+00,\n",
       "        2.44598000e+02, 5.98281816e+04, 2.32075000e+02],\n",
       "       [1.00000000e+00, 4.00000000e+00, 1.60000000e+01, 6.40000000e+01,\n",
       "        1.00000000e+00, 2.01000000e+03, 4.04010000e+06, 8.12060100e+09,\n",
       "        1.00000000e+00, 9.90000000e+00, 9.80100000e+01, 1.00000000e+00,\n",
       "        1.32000000e+02, 1.74240000e+04, 2.29996800e+06, 1.00000000e+00,\n",
       "        2.09024000e+02, 4.36910326e+04, 2.17376000e+02],\n",
       "       [1.00000000e+00, 4.00000000e+00, 1.60000000e+01, 6.40000000e+01,\n",
       "        1.00000000e+00, 2.01100000e+03, 4.04412100e+06, 8.13272733e+09,\n",
       "        1.00000000e+00, 9.10000000e+00, 8.28100000e+01, 1.00000000e+00,\n",
       "        3.05000000e+02, 9.30250000e+04, 2.83726250e+07, 1.00000000e+00,\n",
       "        2.47129000e+02, 6.10727426e+04, 2.24056000e+02],\n",
       "       [1.00000000e+00, 4.00000000e+00, 1.60000000e+01, 6.40000000e+01,\n",
       "        1.00000000e+00, 2.01200000e+03, 4.04814400e+06, 8.14486573e+09,\n",
       "        1.00000000e+00, 8.20000000e+00, 6.72400000e+01, 1.00000000e+00,\n",
       "        3.61000000e+02, 1.30321000e+05, 4.70458810e+07, 1.00000000e+00,\n",
       "        2.49075000e+02, 6.20383556e+04, 2.29184000e+02],\n",
       "       [1.00000000e+00, 4.00000000e+00, 1.60000000e+01, 6.40000000e+01,\n",
       "        1.00000000e+00, 2.01300000e+03, 4.05216900e+06, 8.15701620e+09,\n",
       "        1.00000000e+00, 7.50000000e+00, 5.62500000e+01, 1.00000000e+00,\n",
       "        2.48000000e+02, 6.15040000e+04, 1.52529920e+07, 1.00000000e+00,\n",
       "        2.38860000e+02, 5.70540996e+04, 2.31707000e+02],\n",
       "       [1.00000000e+00, 5.00000000e+00, 2.50000000e+01, 1.25000000e+02,\n",
       "        1.00000000e+00, 2.01000000e+03, 4.04010000e+06, 8.12060100e+09,\n",
       "        1.00000000e+00, 9.60000000e+00, 9.21600000e+01, 1.00000000e+00,\n",
       "        1.77000000e+02, 3.13290000e+04, 5.54523300e+06, 1.00000000e+00,\n",
       "        2.06172000e+02, 4.25068936e+04, 2.17299000e+02],\n",
       "       [1.00000000e+00, 5.00000000e+00, 2.50000000e+01, 1.25000000e+02,\n",
       "        1.00000000e+00, 2.01100000e+03, 4.04412100e+06, 8.13272733e+09,\n",
       "        1.00000000e+00, 9.00000000e+00, 8.10000000e+01, 1.00000000e+00,\n",
       "        3.76000000e+02, 1.41376000e+05, 5.31573760e+07, 1.00000000e+00,\n",
       "        2.50538000e+02, 6.27692894e+04, 2.24918000e+02],\n",
       "       [1.00000000e+00, 5.00000000e+00, 2.50000000e+01, 1.25000000e+02,\n",
       "        1.00000000e+00, 2.01200000e+03, 4.04814400e+06, 8.14486573e+09,\n",
       "        1.00000000e+00, 8.20000000e+00, 6.72400000e+01, 1.00000000e+00,\n",
       "        2.75000000e+02, 7.56250000e+04, 2.07968750e+07, 1.00000000e+00,\n",
       "        2.42208000e+02, 5.86647153e+04, 2.28884000e+02],\n",
       "       [1.00000000e+00, 5.00000000e+00, 2.50000000e+01, 1.25000000e+02,\n",
       "        1.00000000e+00, 2.01300000e+03, 4.05216900e+06, 8.15701620e+09,\n",
       "        1.00000000e+00, 7.50000000e+00, 5.62500000e+01, 1.00000000e+00,\n",
       "        2.52000000e+02, 6.35040000e+04, 1.60030080e+07, 1.00000000e+00,\n",
       "        2.40972000e+02, 5.80675048e+04, 2.32124000e+02],\n",
       "       [1.00000000e+00, 6.00000000e+00, 3.60000000e+01, 2.16000000e+02,\n",
       "        1.00000000e+00, 2.01000000e+03, 4.04010000e+06, 8.12060100e+09,\n",
       "        1.00000000e+00, 9.40000000e+00, 8.83600000e+01, 1.00000000e+00,\n",
       "        1.38000000e+02, 1.90440000e+04, 2.62807200e+06, 1.00000000e+00,\n",
       "        2.04161000e+02, 4.16817139e+04, 2.17285000e+02],\n",
       "       [1.00000000e+00, 6.00000000e+00, 3.60000000e+01, 2.16000000e+02,\n",
       "        1.00000000e+00, 2.01100000e+03, 4.04412100e+06, 8.13272733e+09,\n",
       "        1.00000000e+00, 9.10000000e+00, 8.28100000e+01, 1.00000000e+00,\n",
       "        3.71000000e+02, 1.37641000e+05, 5.10648110e+07, 1.00000000e+00,\n",
       "        2.46401000e+02, 6.07134528e+04, 2.24990000e+02],\n",
       "       [1.00000000e+00, 6.00000000e+00, 3.60000000e+01, 2.16000000e+02,\n",
       "        1.00000000e+00, 2.01200000e+03, 4.04814400e+06, 8.14486573e+09,\n",
       "        1.00000000e+00, 8.20000000e+00, 6.72400000e+01, 1.00000000e+00,\n",
       "        2.78000000e+02, 7.72840000e+04, 2.14849520e+07, 1.00000000e+00,\n",
       "        2.37514000e+02, 5.64129002e+04, 2.28825000e+02],\n",
       "       [1.00000000e+00, 6.00000000e+00, 3.60000000e+01, 2.16000000e+02,\n",
       "        1.00000000e+00, 2.01300000e+03, 4.05216900e+06, 8.15701620e+09,\n",
       "        1.00000000e+00, 7.50000000e+00, 5.62500000e+01, 1.00000000e+00,\n",
       "        3.20000000e+02, 1.02400000e+05, 3.27680000e+07, 1.00000000e+00,\n",
       "        2.45412000e+02, 6.02270497e+04, 2.32860000e+02],\n",
       "       [1.00000000e+00, 7.00000000e+00, 4.90000000e+01, 3.43000000e+02,\n",
       "        1.00000000e+00, 2.01000000e+03, 4.04010000e+06, 8.12060100e+09,\n",
       "        1.00000000e+00, 9.50000000e+00, 9.02500000e+01, 1.00000000e+00,\n",
       "        1.56000000e+02, 2.43360000e+04, 3.79641600e+06, 1.00000000e+00,\n",
       "        2.06834000e+02, 4.27803036e+04, 2.17677000e+02],\n",
       "       [1.00000000e+00, 7.00000000e+00, 4.90000000e+01, 3.43000000e+02,\n",
       "        1.00000000e+00, 2.01100000e+03, 4.04412100e+06, 8.13272733e+09,\n",
       "        1.00000000e+00, 9.00000000e+00, 8.10000000e+01, 1.00000000e+00,\n",
       "        4.27000000e+02, 1.82329000e+05, 7.78544830e+07, 1.00000000e+00,\n",
       "        2.46968000e+02, 6.09931930e+04, 2.25553000e+02],\n",
       "       [1.00000000e+00, 7.00000000e+00, 4.90000000e+01, 3.43000000e+02,\n",
       "        1.00000000e+00, 2.01200000e+03, 4.04814400e+06, 8.14486573e+09,\n",
       "        1.00000000e+00, 8.20000000e+00, 6.72400000e+01, 1.00000000e+00,\n",
       "        4.23000000e+02, 1.78929000e+05, 7.56869670e+07, 1.00000000e+00,\n",
       "        2.34757000e+02, 5.51108490e+04, 2.28779000e+02],\n",
       "       [1.00000000e+00, 7.00000000e+00, 4.90000000e+01, 3.43000000e+02,\n",
       "        1.00000000e+00, 2.01300000e+03, 4.05216900e+06, 8.15701620e+09,\n",
       "        1.00000000e+00, 7.30000000e+00, 5.32900000e+01, 1.00000000e+00,\n",
       "        2.74000000e+02, 7.50760000e+04, 2.05708240e+07, 1.00000000e+00,\n",
       "        2.45926000e+02, 6.04795975e+04, 2.33252000e+02],\n",
       "       [1.00000000e+00, 8.00000000e+00, 6.40000000e+01, 5.12000000e+02,\n",
       "        1.00000000e+00, 2.01000000e+03, 4.04010000e+06, 8.12060100e+09,\n",
       "        1.00000000e+00, 9.50000000e+00, 9.02500000e+01, 1.00000000e+00,\n",
       "        2.02000000e+02, 4.08040000e+04, 8.24240800e+06, 1.00000000e+00,\n",
       "        2.08927000e+02, 4.36504913e+04, 2.18012000e+02],\n",
       "       [1.00000000e+00, 8.00000000e+00, 6.40000000e+01, 5.12000000e+02,\n",
       "        1.00000000e+00, 2.01100000e+03, 4.04412100e+06, 8.13272733e+09,\n",
       "        1.00000000e+00, 9.00000000e+00, 8.10000000e+01, 1.00000000e+00,\n",
       "        3.36000000e+02, 1.12896000e+05, 3.79330560e+07, 1.00000000e+00,\n",
       "        2.47112000e+02, 6.10643405e+04, 2.26149000e+02],\n",
       "       [1.00000000e+00, 8.00000000e+00, 6.40000000e+01, 5.12000000e+02,\n",
       "        1.00000000e+00, 2.01200000e+03, 4.04814400e+06, 8.14486573e+09,\n",
       "        1.00000000e+00, 8.10000000e+00, 6.56100000e+01, 1.00000000e+00,\n",
       "        3.41000000e+02, 1.16281000e+05, 3.96518210e+07, 1.00000000e+00,\n",
       "        2.45455000e+02, 6.02481570e+04, 2.29952000e+02],\n",
       "       [1.00000000e+00, 8.00000000e+00, 6.40000000e+01, 5.12000000e+02,\n",
       "        1.00000000e+00, 2.01300000e+03, 4.05216900e+06, 8.15701620e+09,\n",
       "        1.00000000e+00, 7.20000000e+00, 5.18400000e+01, 1.00000000e+00,\n",
       "        2.71000000e+02, 7.34410000e+04, 1.99025110e+07, 1.00000000e+00,\n",
       "        2.44917000e+02, 5.99843369e+04, 2.33433000e+02],\n",
       "       [1.00000000e+00, 9.00000000e+00, 8.10000000e+01, 7.29000000e+02,\n",
       "        1.00000000e+00, 2.01000000e+03, 4.04010000e+06, 8.12060100e+09,\n",
       "        1.00000000e+00, 9.50000000e+00, 9.02500000e+01, 1.00000000e+00,\n",
       "        1.50000000e+02, 2.25000000e+04, 3.37500000e+06, 1.00000000e+00,\n",
       "        2.09850000e+02, 4.40370225e+04, 2.18281000e+02],\n",
       "       [1.00000000e+00, 9.00000000e+00, 8.10000000e+01, 7.29000000e+02,\n",
       "        1.00000000e+00, 2.01100000e+03, 4.04412100e+06, 8.13272733e+09,\n",
       "        1.00000000e+00, 9.00000000e+00, 8.10000000e+01, 1.00000000e+00,\n",
       "        3.57000000e+02, 1.27449000e+05, 4.54992930e+07, 1.00000000e+00,\n",
       "        2.49732000e+02, 6.23660718e+04, 2.26674000e+02],\n",
       "       [1.00000000e+00, 9.00000000e+00, 8.10000000e+01, 7.29000000e+02,\n",
       "        1.00000000e+00, 2.01200000e+03, 4.04814400e+06, 8.14486573e+09,\n",
       "        1.00000000e+00, 7.80000000e+00, 6.08400000e+01, 1.00000000e+00,\n",
       "        3.74000000e+02, 1.39876000e+05, 5.23136240e+07, 1.00000000e+00,\n",
       "        2.54333000e+02, 6.46852749e+04, 2.31086000e+02],\n",
       "       [1.00000000e+00, 9.00000000e+00, 8.10000000e+01, 7.29000000e+02,\n",
       "        1.00000000e+00, 2.01300000e+03, 4.05216900e+06, 8.15701620e+09,\n",
       "        1.00000000e+00, 7.20000000e+00, 5.18400000e+01, 1.00000000e+00,\n",
       "        2.98000000e+02, 8.88040000e+04, 2.64635920e+07, 1.00000000e+00,\n",
       "        2.45566000e+02, 6.03026604e+04, 2.33743000e+02],\n",
       "       [1.00000000e+00, 1.00000000e+01, 1.00000000e+02, 1.00000000e+03,\n",
       "        1.00000000e+00, 2.01000000e+03, 4.04010000e+06, 8.12060100e+09,\n",
       "        1.00000000e+00, 9.50000000e+00, 9.02500000e+01, 1.00000000e+00,\n",
       "        1.78000000e+02, 3.16840000e+04, 5.63975200e+06, 1.00000000e+00,\n",
       "        2.16655000e+02, 4.69393890e+04, 2.19024000e+02],\n",
       "       [1.00000000e+00, 1.00000000e+01, 1.00000000e+02, 1.00000000e+03,\n",
       "        1.00000000e+00, 2.01100000e+03, 4.04412100e+06, 8.13272733e+09,\n",
       "        1.00000000e+00, 8.80000000e+00, 7.74400000e+01, 1.00000000e+00,\n",
       "        3.70000000e+02, 1.36900000e+05, 5.06530000e+07, 1.00000000e+00,\n",
       "        2.46971000e+02, 6.09946748e+04, 2.26761000e+02],\n",
       "       [1.00000000e+00, 1.00000000e+01, 1.00000000e+02, 1.00000000e+03,\n",
       "        1.00000000e+00, 2.01200000e+03, 4.04814400e+06, 8.14486573e+09,\n",
       "        1.00000000e+00, 7.80000000e+00, 6.08400000e+01, 1.00000000e+00,\n",
       "        2.57000000e+02, 6.60490000e+04, 1.69745930e+07, 1.00000000e+00,\n",
       "        2.56389000e+02, 6.57353193e+04, 2.31652000e+02],\n",
       "       [1.00000000e+00, 1.00000000e+01, 1.00000000e+02, 1.00000000e+03,\n",
       "        1.00000000e+00, 2.01300000e+03, 4.05216900e+06, 8.15701620e+09,\n",
       "        1.00000000e+00, 7.20000000e+00, 5.18400000e+01, 1.00000000e+00,\n",
       "        2.23000000e+02, 4.97290000e+04, 1.10895670e+07, 1.00000000e+00,\n",
       "        2.43374000e+02, 5.92309039e+04, 2.33782000e+02],\n",
       "       [1.00000000e+00, 1.10000000e+01, 1.21000000e+02, 1.33100000e+03,\n",
       "        1.00000000e+00, 2.01000000e+03, 4.04010000e+06, 8.12060100e+09,\n",
       "        1.00000000e+00, 9.80000000e+00, 9.60400000e+01, 1.00000000e+00,\n",
       "        1.61000000e+02, 2.59210000e+04, 4.17328100e+06, 1.00000000e+00,\n",
       "        2.19303000e+02, 4.80938058e+04, 2.19544000e+02],\n",
       "       [1.00000000e+00, 1.10000000e+01, 1.21000000e+02, 1.33100000e+03,\n",
       "        1.00000000e+00, 2.01100000e+03, 4.04412100e+06, 8.13272733e+09,\n",
       "        1.00000000e+00, 8.60000000e+00, 7.39600000e+01, 1.00000000e+00,\n",
       "        2.55000000e+02, 6.50250000e+04, 1.65813750e+07, 1.00000000e+00,\n",
       "        2.47092000e+02, 6.10544565e+04, 2.27136000e+02],\n",
       "       [1.00000000e+00, 1.10000000e+01, 1.21000000e+02, 1.33100000e+03,\n",
       "        1.00000000e+00, 2.01200000e+03, 4.04814400e+06, 8.14486573e+09,\n",
       "        1.00000000e+00, 7.80000000e+00, 6.08400000e+01, 1.00000000e+00,\n",
       "        2.46000000e+02, 6.05160000e+04, 1.48869360e+07, 1.00000000e+00,\n",
       "        2.48136000e+02, 6.15714745e+04, 2.31190000e+02],\n",
       "       [1.00000000e+00, 1.10000000e+01, 1.21000000e+02, 1.33100000e+03,\n",
       "        1.00000000e+00, 2.01300000e+03, 4.05216900e+06, 8.15701620e+09,\n",
       "        1.00000000e+00, 7.00000000e+00, 4.90000000e+01, 1.00000000e+00,\n",
       "        2.31000000e+02, 5.33610000e+04, 1.23263910e+07, 1.00000000e+00,\n",
       "        2.42301000e+02, 5.87097746e+04, 2.34033000e+02],\n",
       "       [1.00000000e+00, 1.20000000e+01, 1.44000000e+02, 1.72800000e+03,\n",
       "        1.00000000e+00, 2.01000000e+03, 4.04010000e+06, 8.12060100e+09,\n",
       "        1.00000000e+00, 9.40000000e+00, 8.83600000e+01, 1.00000000e+00,\n",
       "        1.70000000e+02, 2.89000000e+04, 4.91300000e+06, 1.00000000e+00,\n",
       "        2.27190000e+02, 5.16152961e+04, 2.20437000e+02],\n",
       "       [1.00000000e+00, 1.20000000e+01, 1.44000000e+02, 1.72800000e+03,\n",
       "        1.00000000e+00, 2.01100000e+03, 4.04412100e+06, 8.13272733e+09,\n",
       "        1.00000000e+00, 8.50000000e+00, 7.22500000e+01, 1.00000000e+00,\n",
       "        2.53000000e+02, 6.40090000e+04, 1.61942770e+07, 1.00000000e+00,\n",
       "        2.43015000e+02, 5.90562902e+04, 2.27093000e+02],\n",
       "       [1.00000000e+00, 1.20000000e+01, 1.44000000e+02, 1.72800000e+03,\n",
       "        1.00000000e+00, 2.01200000e+03, 4.04814400e+06, 8.14486573e+09,\n",
       "        1.00000000e+00, 7.90000000e+00, 6.24100000e+01, 1.00000000e+00,\n",
       "        2.75000000e+02, 7.56250000e+04, 2.07968750e+07, 1.00000000e+00,\n",
       "        2.44698000e+02, 5.98771112e+04, 2.31099000e+02],\n",
       "       [1.00000000e+00, 1.20000000e+01, 1.44000000e+02, 1.72800000e+03,\n",
       "        1.00000000e+00, 2.01300000e+03, 4.05216900e+06, 8.15701620e+09,\n",
       "        1.00000000e+00, 6.70000000e+00, 4.48900000e+01, 1.00000000e+00,\n",
       "        2.79000000e+02, 7.78410000e+04, 2.17176390e+07, 1.00000000e+00,\n",
       "        2.46189000e+02, 6.06090237e+04, 2.34594000e+02]])"
      ]
     },
     "execution_count": 25,
     "metadata": {},
     "output_type": "execute_result"
    }
   ],
   "source": [
    "X"
   ]
  },
  {
   "cell_type": "code",
   "execution_count": 26,
   "metadata": {},
   "outputs": [],
   "source": [
    "prm = LinearRegression()"
   ]
  },
  {
   "cell_type": "code",
   "execution_count": 27,
   "metadata": {},
   "outputs": [
    {
     "data": {
      "text/plain": [
       "LinearRegression()"
      ]
     },
     "execution_count": 27,
     "metadata": {},
     "output_type": "execute_result"
    }
   ],
   "source": [
    "prm.fit(X,y)"
   ]
  },
  {
   "cell_type": "code",
   "execution_count": 28,
   "metadata": {},
   "outputs": [
    {
     "data": {
      "text/plain": [
       "0.8346416297709724"
      ]
     },
     "execution_count": 28,
     "metadata": {},
     "output_type": "execute_result"
    }
   ],
   "source": [
    "prm.score(X,y)"
   ]
  },
  {
   "cell_type": "code",
   "execution_count": 29,
   "metadata": {},
   "outputs": [],
   "source": [
    "Y_pred = prm.predict(X)"
   ]
  },
  {
   "cell_type": "code",
   "execution_count": null,
   "metadata": {},
   "outputs": [],
   "source": []
  },
  {
   "cell_type": "code",
   "execution_count": 30,
   "metadata": {},
   "outputs": [
    {
     "data": {
      "text/plain": [
       "3871696.165580025"
      ]
     },
     "execution_count": 30,
     "metadata": {},
     "output_type": "execute_result"
    }
   ],
   "source": [
    "from sklearn.metrics import mean_squared_error\n",
    "mean_squared_error(y,Y_pred)"
   ]
  },
  {
   "cell_type": "code",
   "execution_count": 31,
   "metadata": {},
   "outputs": [
    {
     "data": {
      "text/plain": [
       "1555.5239453125"
      ]
     },
     "execution_count": 31,
     "metadata": {},
     "output_type": "execute_result"
    }
   ],
   "source": [
    "from sklearn.metrics import mean_absolute_error\n",
    "mean_absolute_error(y,Y_pred)"
   ]
  },
  {
   "cell_type": "code",
   "execution_count": 32,
   "metadata": {},
   "outputs": [
    {
     "data": {
      "text/plain": [
       "array([ 4703.98144531,  9105.79394531, 12914.83691406, 11098.38183594,\n",
       "       14282.30761719,  7186.92480469, 14540.30761719, 16331.78808594,\n",
       "       16693.10449219, 18577.40136719,  9433.54980469, 17855.49902344,\n",
       "       19589.24511719, 22999.67285156, 10855.44433594, 18845.34667969,\n",
       "       21082.79199219, 22772.49707031, 14425.01855469, 19425.10839844,\n",
       "       20246.45605469, 23232.52246094, 13620.01464844, 17996.28417969,\n",
       "       19411.14355469, 24146.25683594, 13073.77636719, 15317.00292969,\n",
       "       17407.32324219, 22888.51855469, 13930.75878906, 15268.55957031,\n",
       "       18611.11035156, 21803.83105469, 10868.47949219, 13629.27246094,\n",
       "       18209.48339844, 20980.93847656, 12261.34277344, 13693.58886719,\n",
       "       15170.50292969, 17498.95996094,  9035.27636719, 12678.38574219,\n",
       "       14621.27636719, 18004.69628906, 13992.10449219, 13442.92480469,\n",
       "       15282.29589844, 21229.65917969])"
      ]
     },
     "execution_count": 32,
     "metadata": {},
     "output_type": "execute_result"
    }
   ],
   "source": [
    "y_pred = prm.predict(X)\n",
    "y_pred"
   ]
  },
  {
   "cell_type": "code",
   "execution_count": 33,
   "metadata": {},
   "outputs": [],
   "source": [
    "from sklearn.metrics import mean_squared_error, mean_absolute_error"
   ]
  },
  {
   "cell_type": "code",
   "execution_count": 34,
   "metadata": {},
   "outputs": [],
   "source": [
    "mse = mean_squared_error(y,y_pred)"
   ]
  },
  {
   "cell_type": "code",
   "execution_count": 35,
   "metadata": {},
   "outputs": [
    {
     "data": {
      "text/plain": [
       "3871696.165580025"
      ]
     },
     "execution_count": 35,
     "metadata": {},
     "output_type": "execute_result"
    }
   ],
   "source": [
    "mse"
   ]
  },
  {
   "cell_type": "code",
   "execution_count": 36,
   "metadata": {},
   "outputs": [
    {
     "data": {
      "text/plain": [
       "1967.6626147741956"
      ]
     },
     "execution_count": 36,
     "metadata": {},
     "output_type": "execute_result"
    }
   ],
   "source": [
    "import math\n",
    "RMSE = math.sqrt(mse)\n",
    "RMSE"
   ]
  },
  {
   "cell_type": "code",
   "execution_count": 37,
   "metadata": {},
   "outputs": [],
   "source": [
    "mae = mean_absolute_error(y,y_pred)"
   ]
  },
  {
   "cell_type": "code",
   "execution_count": 38,
   "metadata": {},
   "outputs": [
    {
     "data": {
      "text/plain": [
       "1555.5239453125"
      ]
     },
     "execution_count": 38,
     "metadata": {},
     "output_type": "execute_result"
    }
   ],
   "source": [
    "mae"
   ]
  },
  {
   "cell_type": "code",
   "execution_count": null,
   "metadata": {},
   "outputs": [],
   "source": []
  }
 ],
 "metadata": {
  "kernelspec": {
   "display_name": "Python 3",
   "language": "python",
   "name": "python3"
  },
  "language_info": {
   "codemirror_mode": {
    "name": "ipython",
    "version": 3
   },
   "file_extension": ".py",
   "mimetype": "text/x-python",
   "name": "python",
   "nbconvert_exporter": "python",
   "pygments_lexer": "ipython3",
   "version": "3.8.8"
  },
  "toc": {
   "base_numbering": 1,
   "nav_menu": {},
   "number_sections": false,
   "sideBar": true,
   "skip_h1_title": false,
   "title_cell": "Table of Contents",
   "title_sidebar": "Contents",
   "toc_cell": false,
   "toc_position": {},
   "toc_section_display": true,
   "toc_window_display": false
  }
 },
 "nbformat": 4,
 "nbformat_minor": 2
}
